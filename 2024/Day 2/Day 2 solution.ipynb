{
 "cells": [
  {
   "cell_type": "markdown",
   "metadata": {},
   "source": [
    "# Day 2: Red-Nosed Reports\n",
    "\n",
    "Fortunately, the first location The Historians want to search isn't a long walk from the Chief Historian's office.\n",
    "\n",
    "While the [Red-Nosed Reindeer nuclear fusion/fission plant](https://adventofcode.com/2015/day/19) appears to contain no sign of the Chief Historian, the engineers there run up to you as soon as they see you. Apparently, they _still_ talk about the time Rudolph was saved through molecular synthesis from a single electron.\n",
    "\n",
    "They're quick to add that - since you're already here - they'd really appreciate your help analyzing some unusual data from the Red-Nosed reactor. You turn to check if The Historians are waiting for you, but they seem to have already divided into groups that are currently searching every corner of the facility. You offer to help with the unusual data.\n",
    "\n",
    "The unusual data (your puzzle input) consists of many _reports_, one report per line. Each report is a list of numbers called _levels_ that are separated by spaces. For example:\n",
    "\n",
    "```\n",
    "7 6 4 2 1\n",
    "1 2 7 8 9\n",
    "9 7 6 2 1\n",
    "1 3 2 4 5\n",
    "8 6 4 4 1\n",
    "1 3 6 7 9\n",
    "```\n",
    "\n",
    "This example data contains six reports each containing five levels.\n",
    "\n",
    "The engineers are trying to figure out which reports are _safe_. The Red-Nosed reactor safety systems can only tolerate levels that are either gradually increasing or gradually decreasing. So, a report only counts as safe if both of the following are true:\n",
    "\n",
    "- The levels are either _all increasing_ or _all decreasing_.\n",
    "- Any two adjacent levels differ by _at least one_ and _at most three_.\n",
    "\n",
    "In the example above, the reports can be found safe or unsafe by checking those rules:\n",
    "\n",
    "- `7 6 4 2 1`: _Safe_ because the levels are all decreasing by 1 or 2.\n",
    "- `1 2 7 8 9`: _Unsafe_ because `2 7` is an increase of 5.\n",
    "- `9 7 6 2 1`: _Unsafe_ because `6 2` is a decrease of 4.\n",
    "- `1 3 2 4 5`: _Unsafe_ because `1 3` is increasing but `3 2` is decreasing.\n",
    "- `8 6 4 4 1`: _Unsafe_ because `4 4` is neither an increase or a decrease.\n",
    "- `1 3 6 7 9`: _Safe_ because the levels are all increasing by 1, 2, or 3.\n",
    "\n",
    "So, in this example, `_2_` reports are _safe_.\n",
    "\n",
    "Analyze the unusual data from the engineers. _How many reports are safe?_"
   ]
  },
  {
   "cell_type": "code",
   "execution_count": 20,
   "metadata": {
    "dotnet_interactive": {
     "language": "pwsh"
    },
    "polyglot_notebook": {
     "kernelName": "pwsh"
    }
   },
   "outputs": [],
   "source": [
    "$sample_data = @'\n",
    "7 6 4 2 1\n",
    "1 2 7 8 9\n",
    "9 7 6 2 1\n",
    "1 3 2 4 5\n",
    "8 6 4 4 1\n",
    "1 3 6 7 9\n",
    "'@ -split \"`r`n\"\n",
    "\n",
    "$input_data = Get-Content .\\data.txt"
   ]
  },
  {
   "cell_type": "code",
   "execution_count": 21,
   "metadata": {
    "dotnet_interactive": {
     "language": "pwsh"
    },
    "polyglot_notebook": {
     "kernelName": "pwsh"
    }
   },
   "outputs": [],
   "source": [
    "# For part 2, but putting this & the subsequent cell here so 'run all' in the notebook still works gracefully.\n",
    "# This was actually my OG function, doing it 'efficiently', but it only took 0.4s to get the wrong result.\n",
    "# So YOLO, it's OK to brute force it on day 2, right...?\n",
    "\n",
    "function problemDampener {\n",
    "    [CmdletBinding()] Param(\n",
    "        [int[]] $reports,\n",
    "        [int] $i\n",
    "    )\n",
    "    # either $i or $i-1 is bad. Try dropping $i-1 first.\n",
    "    if($i -eq 1) { #edge case where we're just at the start\n",
    "        $newline = $reports[$i..($reports.Count-1)]\n",
    "    } else {\n",
    "        $newline = $reports[0..($i-2)] + $reports[$i..($reports.Count-1)]\n",
    "    }\n",
    "    Write-Debug \"Problem dampener active for line $($reports -join ' '), trying $($newline -join ' ')\"\n",
    "    if(!(testReport $newline)) {\n",
    "        #last chance bus! test if $i was bad.\n",
    "        if($i -eq ($reports.Count-1)) {\n",
    "            $newline = $reports[0..($i-1)]\n",
    "        } else {\n",
    "            $newline = $reports[0..($i-1)] + $reports[($i+1)..($reports.Count-1)]\n",
    "        }\n",
    "        Write-Debug \"Problem dampener active (last chance!) for line $($reports -join ' '), trying $($newline -join ' ')\"\n",
    "        return (testReport $newline)\n",
    "    } else {\n",
    "        return $true\n",
    "    }\n",
    "}"
   ]
  },
  {
   "cell_type": "code",
   "execution_count": 22,
   "metadata": {
    "dotnet_interactive": {
     "language": "pwsh"
    },
    "polyglot_notebook": {
     "kernelName": "pwsh"
    }
   },
   "outputs": [],
   "source": [
    "function problemDampener {\n",
    "    [CmdletBinding()] Param(\n",
    "        [int[]] $reports,\n",
    "        [int] $i\n",
    "    )\n",
    "\n",
    "    for($j=0;$j -lt ($reports.Count);$j++) {\n",
    "        if($j -eq 0) { #edge case where we're just at the start\n",
    "            $newline = $reports[1..($reports.Count-1)]\n",
    "        } elseif($j -eq ($reports.Count-1)) { # or at the end\n",
    "            $newline = $reports[0..($j-1)]\n",
    "        } else {\n",
    "            $newline = $reports[0..($j-1)] + $reports[($j+1)..($reports.Count-1)]\n",
    "        }\n",
    "        Write-Verbose \"Problem dampener active for line $($reports -join ' '), trying $($newline -join ' ')\"\n",
    "        if(testReport $newline -Debug:$false) {\n",
    "            Write-Debug \"Problem dampener successfully recovered line $($reports -join ' '), using $($newline -join ' ')\"\n",
    "           return $true \n",
    "        }\n",
    "    }\n",
    "    Write-Debug \"Problem dampener couldn't recover line $($reports -join ' ')\"\n",
    "    return $false\n",
    "}"
   ]
  },
  {
   "cell_type": "code",
   "execution_count": 23,
   "metadata": {
    "dotnet_interactive": {
     "language": "pwsh"
    },
    "polyglot_notebook": {
     "kernelName": "pwsh"
    }
   },
   "outputs": [
    {
     "name": "stdout",
     "output_type": "stream",
     "text": [
      "\u001b[93mDEBUG: Line 1 2 7 8 9 is unsafe because it has reports (2, 7) with a difference (5) <3 or >1.\u001b[0m\n",
      "\u001b[93mDEBUG: Line 9 7 6 2 1 is unsafe because it has reports (6, 2) with a difference (4) <3 or >1.\u001b[0m\n",
      "\u001b[93mDEBUG: Line 1 3 2 4 5 is unsafe because it's increasing, but 3 > 2\u001b[0m\n",
      "\u001b[93mDEBUG: Line 8 6 4 4 1 is unsafe because it has reports (4, 4) with a difference (0) <3 or >1.\u001b[0m\n",
      "Of 6 reports, there are 2 that are safe.\n",
      "Of 1000 reports, there are 224 that are safe.\n",
      "\u001b[93mDEBUG: Line 1 2 7 8 9 is unsafe because it has reports (2, 7) with a difference (5) <3 or >1.\u001b[0m\n",
      "\u001b[93mDEBUG: Problem dampener couldn't recover line 1 2 7 8 9\u001b[0m\n",
      "\u001b[93mDEBUG: Line 9 7 6 2 1 is unsafe because it has reports (6, 2) with a difference (4) <3 or >1.\u001b[0m\n",
      "\u001b[93mDEBUG: Problem dampener couldn't recover line 9 7 6 2 1\u001b[0m\n",
      "\u001b[93mDEBUG: Line 1 3 2 4 5 is unsafe because it's increasing, but 3 > 2\u001b[0m\n",
      "\u001b[93mDEBUG: Problem dampener successfully recovered line 1 3 2 4 5, using 1 2 4 5\u001b[0m\n",
      "\u001b[93mDEBUG: Line 8 6 4 4 1 is unsafe because it has reports (4, 4) with a difference (0) <3 or >1.\u001b[0m\n",
      "\u001b[93mDEBUG: Problem dampener successfully recovered line 8 6 4 4 1, using 8 6 4 1\u001b[0m\n",
      "Of 6 reports, there are 4 that are safe.\n",
      "Of 1000 reports, there are 293 that are safe.\n"
     ]
    }
   ],
   "source": [
    "function dostuff {\n",
    "    [CmdletBinding()] Param(\n",
    "        [Parameter(Mandatory=$false)]\n",
    "        [switch] $sample,\n",
    "        [Parameter(Mandatory=$false)]\n",
    "        [switch] $part2\n",
    "    )\n",
    "\n",
    "    if($sample) {\n",
    "        $data = $sample_data\n",
    "    } else {\n",
    "        $data = $input_data\n",
    "    }\n",
    "\n",
    "    $totalSafeReports = 0\n",
    "\n",
    "    foreach($line in $data) {\n",
    "        $reports = [int[]] ($line -split ' ')\n",
    "\n",
    "        if(!$part2) {\n",
    "            if(!(testReport $reports)) {\n",
    "                continue\n",
    "            }\n",
    "        } else {\n",
    "            if(!(testReport $reports -allowDampening)) {\n",
    "                continue\n",
    "            }\n",
    "\n",
    "        }\n",
    "        $totalSafeReports++\n",
    "    }\n",
    "    Write-Output \"Of $($data.Count) reports, there are $totalSafeReports that are safe.\"\n",
    "}\n",
    "\n",
    "function testReport {\n",
    "    [CmdletBinding()] Param(\n",
    "        [int[]] $reports,\n",
    "        [switch] $allowDampening\n",
    "    )\n",
    "    $increasing = $false\n",
    "    if($reports[0] -lt $reports[1]) {\n",
    "        $increasing = $true\n",
    "    }\n",
    "    for($i=1; $i -lt $reports.Count; $i++) {\n",
    "        if([Math]::Abs($reports[$i-1] - $reports[$i]) -notin @(1,2,3)) {\n",
    "            Write-Debug \"Line $($reports -join ' ') is unsafe because it has reports ($($reports[$i-1]), $($reports[$i])) with a difference ($([Math]::Abs($reports[$i-1] - $reports[$i]))) <3 or >1.\"\n",
    "            if($allowDampening) {\n",
    "                if(problemDampener $reports $i) {\n",
    "                    return $true\n",
    "                }\n",
    "            }\n",
    "            return $false\n",
    "        }\n",
    "        if($increasing) {\n",
    "            if($reports[$i-1] -gt $reports[$i]) {\n",
    "                Write-Debug \"Line $($reports -join ' ') is unsafe because it's increasing, but $($reports[$i-1]) > $($reports[$i])\"\n",
    "                if($allowDampening) {\n",
    "                    if(problemDampener $reports $i) {\n",
    "                        return $true\n",
    "                    }\n",
    "                }\n",
    "                return $false\n",
    "            }\n",
    "        } else {\n",
    "            if($reports[$i-1] -lt $reports[$i]) {\n",
    "                Write-Debug \"Line $($reports -join ' ') is unsafe because it's decreasing, but $($reports[$i-1]) < $($reports[$i])\"\n",
    "                if($allowDampening) {\n",
    "                    if(problemDampener $reports $i) {\n",
    "                        return $true\n",
    "                    }\n",
    "                }\n",
    "                return $false\n",
    "            }\n",
    "\n",
    "        }\n",
    "    }\n",
    "    return $true\n",
    "}\n",
    "\n",
    "\n",
    "dostuff -sample -Debug\n",
    "dostuff\n",
    "dostuff -sample -Debug -part2\n",
    "dostuff -part2"
   ]
  },
  {
   "cell_type": "markdown",
   "metadata": {},
   "source": [
    "# Part Two\n",
    "\n",
    "The engineers are surprised by the low number of safe reports until they realize they forgot to tell you about the Problem Dampener.\n",
    "\n",
    "The Problem Dampener is a reactor-mounted module that lets the reactor safety systems _tolerate a single bad level_ in what would otherwise be a safe report. It's like the bad level never happened!\n",
    "\n",
    "Now, the same rules apply as before, except if removing a single level from an unsafe report would make it safe, the report instead counts as safe.\n",
    "\n",
    "More of the above example's reports are now safe:\n",
    "\n",
    "- `7 6 4 2 1`: _Safe_ without removing any level.\n",
    "- `1 2 7 8 9`: _Unsafe_ regardless of which level is removed.\n",
    "- `9 7 6 2 1`: _Unsafe_ regardless of which level is removed.\n",
    "- `1 _3_ 2 4 5`: _Safe_ by removing the second level, `3`.\n",
    "- `8 6 _4_ 4 1`: _Safe_ by removing the third level, `4`.\n",
    "- `1 3 6 7 9`: _Safe_ without removing any level.\n",
    "\n",
    "Thanks to the Problem Dampener, `_4_` reports are actually _safe_!\n",
    "\n",
    "Update your analysis by handling situations where the Problem Dampener can remove a single level from unsafe reports. _How many reports are now safe?_"
   ]
  }
 ],
 "metadata": {
  "kernelspec": {
   "display_name": ".NET (C#)",
   "language": "C#",
   "name": ".net-csharp"
  },
  "language_info": {
   "name": "polyglot-notebook"
  },
  "polyglot_notebook": {
   "kernelInfo": {
    "defaultKernelName": "csharp",
    "items": [
     {
      "aliases": [],
      "name": "csharp"
     },
     {
      "aliases": [],
      "languageName": "pwsh",
      "name": "pwsh"
     }
    ]
   }
  }
 },
 "nbformat": 4,
 "nbformat_minor": 2
}
