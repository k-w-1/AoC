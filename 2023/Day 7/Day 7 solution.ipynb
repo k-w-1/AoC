{
 "cells": [
  {
   "cell_type": "markdown",
   "metadata": {},
   "source": [
    "# ## Day 7: Camel Cards ---\n",
    "\n",
    "Your all-expenses-paid trip turns out to be a one-way, five-minute ride in an [airship](https://en.wikipedia.org/wiki/Airship). (At least it's a _cool_ airship!) It drops you off at the edge of a vast desert and descends back to Island Island.\n",
    "\n",
    "\"Did you bring the parts?\"\n",
    "\n",
    "You turn around to see an Elf completely covered in white clothing, wearing goggles, and riding a large [camel](https://en.wikipedia.org/wiki/Dromedary).\n",
    "\n",
    "\"Did you bring the parts?\" she asks again, louder this time. You aren't sure what parts she's looking for; you're here to figure out why the sand stopped.\n",
    "\n",
    "\"The parts! For the sand, yes! Come with me; I will show you.\" She beckons you onto the camel.\n",
    "\n",
    "After riding a bit across the sands of Desert Island, you can see what look like very large rocks covering half of the horizon. The Elf explains that the rocks are all along the part of Desert Island that is directly above Island Island, making it hard to even get there. Normally, they use big machines to move the rocks and filter the sand, but the machines have broken down because Desert Island recently stopped receiving the _parts_ they need to fix the machines.\n",
    "\n",
    "You've already assumed it'll be your job to figure out why the parts stopped when she asks if you can help. You agree automatically.\n",
    "\n",
    "Because the journey will take a few days, she offers to teach you the game of _Camel Cards_. Camel Cards is sort of similar to [poker](https://en.wikipedia.org/wiki/List_of_poker_hands) except it's designed to be easier to play while riding a camel.\n",
    "\n",
    "In Camel Cards, you get a list of _hands_, and your goal is to order them based on the _strength_ of each hand. A hand consists of _five cards_ labeled one of `A`, `K`, `Q`, `J`, `T`, `9`, `8`, `7`, `6`, `5`, `4`, `3`, or `2`. The relative strength of each card follows this order, where `A` is the highest and `2` is the lowest.\n",
    "\n",
    "Every hand is exactly one _type_. From strongest to weakest, they are:\n",
    "\n",
    "- _Five of a kind_, where all five cards have the same label: `AAAAA`\n",
    "- _Four of a kind_, where four cards have the same label and one card has a different label: `AA8AA`\n",
    "- _Full house_, where three cards have the same label, and the remaining two cards share a different label: `23332`\n",
    "- _Three of a kind_, where three cards have the same label, and the remaining two cards are each different from any other card in the hand: `TTT98`\n",
    "- _Two pair_, where two cards share one label, two other cards share a second label, and the remaining card has a third label: `23432`\n",
    "- _One pair_, where two cards share one label, and the other three cards have a different label from the pair and each other: `A23A4`\n",
    "- _High card_, where all cards' labels are distinct: `23456`\n",
    "\n",
    "Hands are primarily ordered based on type; for example, every _full house_ is stronger than any _three of a kind_.\n",
    "\n",
    "If two hands have the same type, a second ordering rule takes effect. Start by comparing the _first card in each hand_. If these cards are different, the hand with the stronger first card is considered stronger. If the first card in each hand have the _same label_, however, then move on to considering the _second card in each hand_. If they differ, the hand with the higher second card wins; otherwise, continue with the third card in each hand, then the fourth, then the fifth.\n",
    "\n",
    "So, `33332` and `2AAAA` are both _four of a kind_ hands, but `33332` is stronger because its first card is stronger. Similarly, `77888` and `77788` are both a _full house_, but `77888` is stronger because its third card is stronger (and both hands have the same first and second card).\n",
    "\n",
    "To play Camel Cards, you are given a list of hands and their corresponding _bid_ (your puzzle input). For example:\n",
    "\n",
    "```\n",
    "32T3K 765\n",
    "T55J5 684\n",
    "KK677 28\n",
    "KTJJT 220\n",
    "QQQJA 483\n",
    "```\n",
    "\n",
    "This example shows five hands; each hand is followed by its _bid_ amount. Each hand wins an amount equal to its bid multiplied by its _rank_, where the weakest hand gets rank 1, the second-weakest hand gets rank 2, and so on up to the strongest hand. Because there are five hands in this example, the strongest hand will have rank 5 and its bid will be multiplied by 5.\n",
    "\n",
    "So, the first step is to put the hands in order of strength:\n",
    "\n",
    "- `32T3K` is the only _one pair_ and the other hands are all a stronger type, so it gets rank _1_.\n",
    "- `KK677` and `KTJJT` are both _two pair_. Their first cards both have the same label, but the second card of `KK677` is stronger (`K` vs `T`), so `KTJJT` gets rank _2_ and `KK677` gets rank _3_.\n",
    "- `T55J5` and `QQQJA` are both _three of a kind_. `QQQJA` has a stronger first card, so it gets rank _5_ and `T55J5` gets rank _4_.\n",
    "\n",
    "Now, you can determine the total winnings of this set of hands by adding up the result of multiplying each hand's bid with its rank (`765` \\* 1 + `220` \\* 2 + `28` \\* 3 + `684` \\* 4 + `483` \\* 5). So the _total winnings_ in this example are `_6440_`.\n",
    "\n",
    "Find the rank of every hand in your set. _What are the total winnings?_"
   ]
  },
  {
   "cell_type": "code",
   "execution_count": 1,
   "metadata": {
    "dotnet_interactive": {
     "language": "pwsh"
    },
    "polyglot_notebook": {
     "kernelName": "pwsh"
    }
   },
   "outputs": [],
   "source": [
    "$sample_data = @'\n",
    "32T3K 765\n",
    "T55J5 684\n",
    "KK677 28\n",
    "KTJJT 220\n",
    "QQQJA 483\n",
    "'@ -split \"`n\"\n",
    "\n",
    "$input_data = Get-Content .\\data.txt"
   ]
  },
  {
   "cell_type": "code",
   "execution_count": null,
   "metadata": {
    "dotnet_interactive": {
     "language": "pwsh"
    },
    "polyglot_notebook": {
     "kernelName": "pwsh"
    }
   },
   "outputs": [],
   "source": [
    "function dostuff {\n",
    "    Param(\n",
    "        [Parameter(Mandatory=$false)]\n",
    "        [switch] $sample,\n",
    "        [Parameter(Mandatory=$false)]\n",
    "        [switch] $part2\n",
    "    )\n",
    "\n",
    "    if($sample) {\n",
    "        $data = $sample_data\n",
    "    } else {\n",
    "        $data = $input_data\n",
    "    }\n",
    "\n",
    "    [System.Collections.ArrayList]$hands = @()\n",
    "\n",
    "    # Parse hands while sorting\n",
    "    foreach($line in $data) {\n",
    "        $temp = $line.split(' ')\n",
    "\n",
    "        #determine how good it is\n",
    "\n",
    "        #Five of a kind\n",
    "        \n",
    "        #Four of a kind\n",
    "\n",
    "        #Full house (3 pair + 2 pair)\n",
    "\n",
    "        #Three of a kind\n",
    "\n",
    "        #Two pair\n",
    "\n",
    "        #One pair\n",
    "\n",
    "        #High card\n",
    "\n",
    "        $hands.Insert(\n",
    "    }\n",
    "\n",
    "    # Score the hands\n",
    "\n",
    "}\n",
    "\n",
    "dostuff -sample -debug"
   ]
  },
  {
   "cell_type": "code",
   "execution_count": 5,
   "metadata": {
    "dotnet_interactive": {
     "language": "pwsh"
    },
    "polyglot_notebook": {
     "kernelName": "pwsh"
    }
   },
   "outputs": [
    {
     "name": "stdout",
     "output_type": "stream",
     "text": [
      "\n",
      "\u001b[32;1mGroups    : \u001b[0m{0}\n",
      "\u001b[32;1mSuccess   : \u001b[0mFalse\n",
      "\u001b[32;1mName      : \u001b[0m0\n",
      "\u001b[32;1mCaptures  : \u001b[0m{}\n",
      "\u001b[32;1mIndex     : \u001b[0m0\n",
      "\u001b[32;1mLength    : \u001b[0m0\n",
      "\u001b[32;1mValue     : \u001b[0m\n",
      "\u001b[32;1mValueSpan : \u001b[0m\n",
      "\n",
      "\n"
     ]
    }
   ],
   "source": [
    "$string = \"1253455AJK55\"\n",
    "$pattern = \"^(?:(\\w)(?=\\1{4}(?!\\1))){5}\\1$\"\n",
    "\n",
    "$match = [regex]::Match($string, $pattern)\n",
    "$match"
   ]
  }
 ],
 "metadata": {
  "kernelspec": {
   "display_name": ".NET (PowerShell)",
   "language": "PowerShell",
   "name": ".net-pwsh"
  },
  "language_info": {
   "name": "polyglot-notebook"
  },
  "polyglot_notebook": {
   "kernelInfo": {
    "defaultKernelName": "pwsh",
    "items": [
     {
      "aliases": [],
      "languageName": "pwsh",
      "name": "pwsh"
     }
    ]
   }
  }
 },
 "nbformat": 4,
 "nbformat_minor": 2
}
