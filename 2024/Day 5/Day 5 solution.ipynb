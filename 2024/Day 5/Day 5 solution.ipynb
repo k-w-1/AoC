{
 "cells": [
  {
   "cell_type": "markdown",
   "metadata": {},
   "source": [
    "# Day 5: Print Queue\n",
    "\n",
    "Satisfied with their search on Ceres, the squadron of scholars suggests subsequently scanning the stationery stacks of sub-basement 17.\n",
    "\n",
    "The North Pole printing department is busier than ever this close to Christmas, and while The Historians continue their search of this historically significant facility, an Elf operating a [very familiar printer](https://adventofcode.com/2017/day/1) beckons you over.\n",
    "\n",
    "The Elf must recognize you, because they waste no time explaining that the new _sleigh launch safety manual_ updates won't print correctly. Failure to update the safety manuals would be dire indeed, so you offer your services.\n",
    "\n",
    "Safety protocols clearly indicate that new pages for the safety manuals must be printed in a _very specific order_. The notation `X|Y` means that if both page number `X` and page number `Y` are to be produced as part of an update, page number `X` _must_ be printed at some point before page number `Y`.\n",
    "\n",
    "The Elf has for you both the _page ordering rules_ and the _pages to produce in each update_ (your puzzle input), but can't figure out whether each update has the pages in the right order.\n",
    "\n",
    "For example:\n",
    "\n",
    "```\n",
    "47|53\n",
    "97|13\n",
    "97|61\n",
    "97|47\n",
    "75|29\n",
    "61|13\n",
    "75|53\n",
    "29|13\n",
    "97|29\n",
    "53|29\n",
    "61|53\n",
    "97|53\n",
    "61|29\n",
    "47|13\n",
    "75|47\n",
    "97|75\n",
    "47|61\n",
    "75|61\n",
    "47|29\n",
    "75|13\n",
    "53|13\n",
    "\n",
    "75,47,61,53,29\n",
    "97,61,53,29,13\n",
    "75,29,13\n",
    "75,97,47,61,53\n",
    "61,13,29\n",
    "97,13,75,29,47\n",
    "```\n",
    "\n",
    "The first section specifies the _page ordering rules_, one per line. The first rule, `47|53`, means that if an update includes both page number 47 and page number 53, then page number 47 _must_ be printed at some point before page number 53. (47 doesn't necessarily need to be _immediately_ before 53; other pages are allowed to be between them.)\n",
    "\n",
    "The second section specifies the page numbers of each _update_. Because most safety manuals are different, the pages needed in the updates are different too. The first update, `75,47,61,53,29`, means that the update consists of page numbers 75, 47, 61, 53, and 29.\n",
    "\n",
    "To get the printers going as soon as possible, start by identifying _which updates are already in the right order_.\n",
    "\n",
    "In the above example, the first update (`75,47,61,53,29`) is in the right order:\n",
    "\n",
    "- `75` is correctly first because there are rules that put each other page after it: `75|47`, `75|61`, `75|53`, and `75|29`.\n",
    "- `47` is correctly second because 75 must be before it (`75|47`) and every other page must be after it according to `47|61`, `47|53`, and `47|29`.\n",
    "- `61` is correctly in the middle because 75 and 47 are before it (`75|61` and `47|61`) and 53 and 29 are after it (`61|53` and `61|29`).\n",
    "- `53` is correctly fourth because it is before page number 29 (`53|29`).\n",
    "- `29` is the only page left and so is correctly last.\n",
    "\n",
    "Because the first update does not include some page numbers, the ordering rules involving those missing page numbers are ignored.\n",
    "\n",
    "The second and third updates are also in the correct order according to the rules. Like the first update, they also do not include every page number, and so only some of the ordering rules apply - within each update, the ordering rules that involve missing page numbers are not used.\n",
    "\n",
    "The fourth update, `75,97,47,61,53`, is _not_ in the correct order: it would print 75 before 97, which violates the rule `97|75`.\n",
    "\n",
    "The fifth update, `61,13,29`, is also _not_ in the correct order, since it breaks the rule `29|13`.\n",
    "\n",
    "The last update, `97,13,75,29,47`, is _not_ in the correct order due to breaking several rules.\n",
    "\n",
    "For some reason, the Elves also need to know the _middle page number_ of each update being printed. Because you are currently only printing the correctly-ordered updates, you will need to find the middle page number of each correctly-ordered update. In the above example, the correctly-ordered updates are:\n",
    "\n",
    "```\n",
    "75,47,61,53,29\n",
    "97,61,53,29,13\n",
    "75,29,13\n",
    "```\n",
    "\n",
    "These have middle page numbers of `61`, `53`, and `29` respectively. Adding these page numbers together gives `_143_`.\n",
    "\n",
    "Of course, you'll need to be careful: the actual list of _page ordering rules_ is bigger and more complicated than the above example.\n",
    "\n",
    "Determine which updates are already in the correct order. _What do you get if you add up the middle page number from those correctly-ordered updates?_"
   ]
  },
  {
   "cell_type": "code",
   "execution_count": null,
   "metadata": {
    "dotnet_interactive": {
     "language": "pwsh"
    },
    "polyglot_notebook": {
     "kernelName": "pwsh"
    }
   },
   "outputs": [],
   "source": [
    "$sample_data = (@'\n",
    "47|53\n",
    "97|13\n",
    "97|61\n",
    "97|47\n",
    "75|29\n",
    "61|13\n",
    "75|53\n",
    "29|13\n",
    "97|29\n",
    "53|29\n",
    "61|53\n",
    "97|53\n",
    "61|29\n",
    "47|13\n",
    "75|47\n",
    "97|75\n",
    "47|61\n",
    "75|61\n",
    "47|29\n",
    "75|13\n",
    "53|13\n",
    "\n",
    "75,47,61,53,29\n",
    "97,61,53,29,13\n",
    "75,29,13\n",
    "75,97,47,61,53\n",
    "61,13,29\n",
    "97,13,75,29,47\n",
    "'@).Replace(\"`r\", '') -split \"`n\" \n",
    "\n",
    "$input_data = Get-Content .\\data.txt"
   ]
  },
  {
   "cell_type": "code",
   "execution_count": null,
   "metadata": {
    "dotnet_interactive": {
     "language": "pwsh"
    },
    "polyglot_notebook": {
     "kernelName": "pwsh"
    }
   },
   "outputs": [],
   "source": [
    "function dostuff {\n",
    "    [CmdletBinding()] Param(\n",
    "        [Parameter(Mandatory=$false)]\n",
    "        [switch] $sample,\n",
    "        [Parameter(Mandatory=$false)]\n",
    "        [switch] $part2\n",
    "    )\n",
    "    if($sample) {\n",
    "        $data = $sample_data\n",
    "        $out = \"With *SAMPLE* dataset, part \"\n",
    "    } else {\n",
    "        $data = $input_data\n",
    "        $out = \"Part \"\n",
    "    }\n",
    "    $out += $part2 ? '2: ' : '1: '\n",
    "\n",
    "    \n",
    "\n",
    "    $out += \"\"\n",
    "    Write-Output $out\n",
    "}\n",
    "\n",
    "dostuff -sample -Debug"
   ]
  }
 ],
 "metadata": {
  "kernelspec": {
   "display_name": ".NET (C#)",
   "language": "C#",
   "name": ".net-csharp"
  },
  "language_info": {
   "name": "polyglot-notebook"
  },
  "polyglot_notebook": {
   "kernelInfo": {
    "defaultKernelName": "csharp",
    "items": [
     {
      "aliases": [],
      "name": "csharp"
     },
     {
      "aliases": [],
      "languageName": "pwsh",
      "name": "pwsh"
     }
    ]
   }
  }
 },
 "nbformat": 4,
 "nbformat_minor": 2
}
