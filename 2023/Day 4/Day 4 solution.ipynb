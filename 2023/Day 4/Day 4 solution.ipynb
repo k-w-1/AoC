{
 "cells": [
  {
   "cell_type": "markdown",
   "metadata": {},
   "source": [
    "# Day 4: Scratchcards\n",
    "\n",
    "The gondola takes you up. Strangely, though, the ground doesn't seem to be coming with you; you're not climbing a mountain. As the circle of Snow Island recedes below you, an entire new landmass suddenly appears above you! The gondola carries you to the surface of the new island and lurches into the station.\n",
    "\n",
    "As you exit the gondola, the first thing you notice is that the air here is much warmer than it was on Snow Island. It's also quite humid. Is this where the water source is?\n",
    "\n",
    "The next thing you notice is an Elf sitting on the floor across the station in what seems to be a pile of colorful square cards.\n",
    "\n",
    "\"Oh! Hello!\" The Elf excitedly runs over to you. \"How may I be of service?\" You ask about water sources.\n",
    "\n",
    "\"I'm not sure; I just operate the gondola lift. That does sound like something we'd have, though - this is Island Island, after all! I bet the gardener would know. He's on a different island, though - er, the small kind surrounded by water, not the floating kind. We really need to come up with a better naming scheme. Tell you what: if you can help me with something quick, I'll let you borrow my boat and you can go visit the gardener. I got all these scratchcards as a gift, but I can't figure out what I've won.\"\n",
    "\n",
    "The Elf leads you over to the pile of colorful cards. There, you discover dozens of scratchcards, all with their opaque covering already scratched off. Picking one up, it looks like each card has two lists of numbers separated by a vertical bar (`|`): a list of winning numbers and then a list of numbers you have. You organize the information into a table (your puzzle input).\n",
    "\n",
    "As far as the Elf has been able to figure out, you have to figure out which of the numbers you have appear in the list of winning numbers. The first match makes the card worth one point and each match after the first doubles the point value of that card.\n",
    "\n",
    "For example:\n",
    "\n",
    "```\n",
    "Card 1: 41 48 83 86 17 | 83 86  6 31 17  9 48 53\n",
    "Card 2: 13 32 20 16 61 | 61 30 68 82 17 32 24 19\n",
    "Card 3:  1 21 53 59 44 | 69 82 63 72 16 21 14  1\n",
    "Card 4: 41 92 73 84 69 | 59 84 76 51 58  5 54 83\n",
    "Card 5: 87 83 26 28 32 | 88 30 70 12 93 22 82 36\n",
    "Card 6: 31 18 13 56 72 | 74 77 10 23 35 67 36 11\n",
    "```\n",
    "\n",
    "In the above example, card 1 has five winning numbers (41, 48, 83, 86, and 17) and eight numbers you have (83, 86, 6, 31, 17, 9, 48, and 53). Of the numbers you have, four of them (48, 83, 17, and 86) are winning numbers! That means card 1 is worth 8 points (1 for the first match, then doubled three times for each of the three matches after the first).\n",
    "\n",
    "- Card 2 has two winning numbers (32 and 61), so it is worth 2 points.\n",
    "- Card 3 has two winning numbers (1 and 21), so it is worth 2 points.\n",
    "- Card 4 has one winning number (84), so it is worth 1 point.\n",
    "- Card 5 has no winning numbers, so it is worth no points.\n",
    "- Card 6 has no winning numbers, so it is worth no points.\n",
    "\n",
    "So, in this example, the Elf's pile of scratchcards is worth 13 points.\n",
    "\n",
    "Take a seat in the large pile of colorful cards. *How many points are they worth in total*?"
   ]
  },
  {
   "cell_type": "code",
   "execution_count": 3,
   "metadata": {
    "dotnet_interactive": {
     "language": "pwsh"
    },
    "polyglot_notebook": {
     "kernelName": "pwsh"
    }
   },
   "outputs": [
    {
     "name": "stdout",
     "output_type": "stream",
     "text": [
      "\u001b[31;1mGet-Content: \u001b[0m\n",
      "\u001b[31;1m\u001b[36;1mLine |\u001b[0m\n",
      "\u001b[31;1m\u001b[36;1m\u001b[36;1m  10 | \u001b[0m $input_data = \u001b[36;1mGet-Content .\\data.txt\u001b[0m\n",
      "\u001b[31;1m\u001b[36;1m\u001b[36;1m\u001b[0m\u001b[36;1m\u001b[0m\u001b[36;1m     | \u001b[31;1m               ~~~~~~~~~~~~~~~~~~~~~~\u001b[0m\n",
      "\u001b[31;1m\u001b[36;1m\u001b[36;1m\u001b[0m\u001b[36;1m\u001b[0m\u001b[36;1m\u001b[31;1m\u001b[31;1m\u001b[36;1m     | \u001b[31;1mCannot find path 'C:\\Users\\Kevin\\Documents\\AoC\\AoC\\2023\\Day 4\\data.txt' because it does not exist.\u001b[0m\n"
     ]
    },
    {
     "ename": "Error",
     "evalue": "Command failed: SubmitCode: $sample_data = @' ...",
     "output_type": "error",
     "traceback": [
      "Command failed: SubmitCode: $sample_data = @' ..."
     ]
    }
   ],
   "source": [
    "$sample_data = @'\n",
    "Card 1: 41 48 83 86 17 | 83 86  6 31 17  9 48 53\n",
    "Card 2: 13 32 20 16 61 | 61 30 68 82 17 32 24 19\n",
    "Card 3:  1 21 53 59 44 | 69 82 63 72 16 21 14  1\n",
    "Card 4: 41 92 73 84 69 | 59 84 76 51 58  5 54 83\n",
    "Card 5: 87 83 26 28 32 | 88 30 70 12 93 22 82 36\n",
    "Card 6: 31 18 13 56 72 | 74 77 10 23 35 67 36 11\n",
    "'@ -split \"`n\"\n",
    "\n",
    "$input_data = Get-Content .\\data.txt"
   ]
  },
  {
   "cell_type": "code",
   "execution_count": 14,
   "metadata": {
    "dotnet_interactive": {
     "language": "pwsh"
    },
    "polyglot_notebook": {
     "kernelName": "pwsh"
    }
   },
   "outputs": [
    {
     "name": "stdout",
     "output_type": "stream",
     "text": [
      "\u001b[0mmVERBOSE: Full card:  41 48 83 86 17 | 83 86  6 31 17  9 48 53\n",
      "\u001b[93mVERBOSE: Left: ; right:  \u001b[0m\n",
      "\u001b[93mDEBUG: Found card number 1, with the winning numbers  and card numbers \u001b[0m\n",
      "\u001b[0mmVERBOSE: Full card:  13 32 20 16 61 | 61 30 68 82 17 32 24 19\n",
      "\u001b[93mVERBOSE: Left: ; right:  \u001b[0m\n",
      "\u001b[93mDEBUG: Found card number 2, with the winning numbers  and card numbers \u001b[0m\n",
      "\u001b[0mmVERBOSE: Full card:   1 21 53 59 44 | 69 82 63 72 16 21 14  1\n",
      "\u001b[93mVERBOSE: Left: ; right:  \u001b[0m\n",
      "\u001b[93mDEBUG: Found card number 3, with the winning numbers  and card numbers \u001b[0m\n",
      "\u001b[0mmVERBOSE: Full card:  41 92 73 84 69 | 59 84 76 51 58  5 54 83\n",
      "\u001b[93mVERBOSE: Left: ; right:  \u001b[0m\n",
      "\u001b[93mDEBUG: Found card number 4, with the winning numbers  and card numbers \u001b[0m\n",
      "\u001b[0mmVERBOSE: Full card:  87 83 26 28 32 | 88 30 70 12 93 22 82 36\n",
      "\u001b[93mVERBOSE: Left: ; right:  \u001b[0m\n",
      "\u001b[93mDEBUG: Found card number 5, with the winning numbers  and card numbers \u001b[0m\n",
      "\u001b[93mVERBOSE: Full card:  31 18 13 56 72 | 74 77 10 23 35 67 36 11\u001b[0m\n",
      "\u001b[93mVERBOSE: Left: ; right:  \u001b[0m\n",
      "\u001b[93mDEBUG: Found card number 6, with the winning numbers  and card numbers \u001b[0m\n"
     ]
    }
   ],
   "source": [
    "function dostuff {\n",
    "    Param(\n",
    "        [Parameter(Mandatory=$false)]\n",
    "        [switch] $sample,\n",
    "        [Parameter(Mandatory=$false)]\n",
    "        [switch] $part2\n",
    "    )\n",
    "\n",
    "    if($sample) {\n",
    "        $VerbosePreference = 'Continue'\n",
    "        $DebugPreference = 'Continue'\n",
    "        $data = $sample_data\n",
    "    } else {\n",
    "        $VerbosePreference = 'SilentlyContinue'\n",
    "        $DebugPreference = 'SilentlyContinue'\n",
    "        $data = $input_data\n",
    "    }\n",
    "\n",
    "    foreach($line in $data) {\n",
    "        $t = $line -split ':'\n",
    "        \n",
    "        $card_number = [regex]::Match($t[0], '\\d+')\n",
    "        $card_halves = $t[1] -split '|'\n",
    "\n",
    "        Write-Verbose \"Full card: $($t[1])\"\n",
    "        Write-Verbose \"Left: $($card_halves[0]); right: $($card_halves[1])\"\n",
    "\n",
    "        $winning_numbers = [regex]::Matches($card_halves[0], '\\d+')\n",
    "        $card_numbers = [regex]::Matches($card_halves[1], '\\d+')\n",
    "\n",
    "        Write-Debug \"Found card number $card_number, with the winning numbers $($winning_numbers -join ', ') and card numbers $($card_numbers -join ', ')\"\n",
    "        \n",
    "    }\n",
    "\n",
    "}\n",
    "\n",
    "dostuff -sample"
   ]
  }
 ],
 "metadata": {
  "kernelspec": {
   "display_name": ".NET (PowerShell)",
   "language": "PowerShell",
   "name": ".net-pwsh"
  },
  "language_info": {
   "name": "polyglot-notebook"
  },
  "polyglot_notebook": {
   "kernelInfo": {
    "defaultKernelName": "pwsh",
    "items": [
     {
      "aliases": [],
      "languageName": "pwsh",
      "name": "pwsh"
     }
    ]
   }
  }
 },
 "nbformat": 4,
 "nbformat_minor": 2
}
