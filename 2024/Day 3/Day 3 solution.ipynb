{
 "cells": [
  {
   "cell_type": "markdown",
   "metadata": {},
   "source": [
    "# Day 3: Mull It Over\n",
    "\n",
    "\"Our computers are having issues, so I have no idea if we have any Chief Historians in stock! You're welcome to check the warehouse, though,\" says the mildly flustered shopkeeper at the [North Pole Toboggan Rental Shop](https://adventofcode.com/2020/day/2). The Historians head out to take a look.\n",
    "\n",
    "The shopkeeper turns to you. \"Any chance you can see why our computers are having issues again?\"\n",
    "\n",
    "The computer appears to be trying to run a program, but its memory (your puzzle input) is _corrupted_. All of the instructions have been jumbled up!\n",
    "\n",
    "It seems like the goal of the program is just to _multiply some numbers_. It does that with instructions like `mul(X,Y)`, where `X` and `Y` are each 1-3 digit numbers. For instance, `mul(44,46)` multiplies `44` by `46` to get a result of `2024`. Similarly, `mul(123,4)` would multiply `123` by `4`.\n",
    "\n",
    "However, because the program's memory has been corrupted, there are also many invalid characters that should be _ignored_, even if they look like part of a `mul` instruction. Sequences like `mul(4*`, `mul(6,9!`, `?(12,34)`, or `mul ( 2 , 4 )` do _nothing_.\n",
    "\n",
    "For example, consider the following section of corrupted memory:\n",
    "\n",
    "```\n",
    "xmul(2,4)%&mul[3,7]!@^do_not_mul(5,5)+mul(32,64]then(mul(11,8)mul(8,5))\n",
    "```\n",
    "\n",
    "Only the four highlighted sections are real `mul` instructions. Adding up the result of each instruction produces `_161_` (`2*4 + 5*5 + 11*8 + 8*5`).\n",
    "\n",
    "Scan the corrupted memory for uncorrupted `mul` instructions. _What do you get if you add up all of the results of the multiplications?_"
   ]
  },
  {
   "cell_type": "code",
   "execution_count": 21,
   "metadata": {
    "dotnet_interactive": {
     "language": "pwsh"
    },
    "polyglot_notebook": {
     "kernelName": "pwsh"
    }
   },
   "outputs": [],
   "source": [
    "$sample_data = @'\n",
    "xmul(2,4)%&mul[3,7]!@^do_not_mul(5,5)+mul(32,64]then(mul(11,8)mul(8,5))\n",
    "'@\n",
    "\n",
    "$sample_data2 = @'\n",
    "xmul(2,4)&mul[3,7]!^don't()_mul(5,5)+mul(32,64](mul(11,8)undo()?mul(8,5))\n",
    "'@\n",
    "\n",
    "$input_data = Get-Content .\\data.txt"
   ]
  },
  {
   "cell_type": "code",
   "execution_count": 22,
   "metadata": {
    "dotnet_interactive": {
     "language": "pwsh"
    },
    "polyglot_notebook": {
     "kernelName": "pwsh"
    }
   },
   "outputs": [
    {
     "name": "stdout",
     "output_type": "stream",
     "text": [
      "\u001b[93mDEBUG: Trying to match against 'mul(2,4)'\u001b[0m\n",
      "\u001b[93mDEBUG: Calculated product as 8\u001b[0m\n",
      "\u001b[93mDEBUG: Trying to match against 'mul(5,5)'\u001b[0m\n",
      "\u001b[93mDEBUG: Calculated product as 25\u001b[0m\n",
      "\u001b[93mDEBUG: Trying to match against 'mul(11,8)'\u001b[0m\n",
      "\u001b[93mDEBUG: Calculated product as 88\u001b[0m\n",
      "\u001b[93mDEBUG: Trying to match against 'mul(8,5)'\u001b[0m\n",
      "\u001b[93mDEBUG: Calculated product as 40\u001b[0m\n",
      "Final resulting sum is 161\n",
      "Final resulting sum is 161289189\n",
      "\u001b[93mDEBUG: Trying to match against 'mul(2,4)'\u001b[0m\n",
      "\u001b[93mDEBUG: Calculated product as 8\u001b[0m\n",
      "\u001b[93mDEBUG: Trying to match against 'don't()'\u001b[0m\n",
      "\u001b[93mDEBUG: Trying to match against 'mul(5,5)'\u001b[0m\n",
      "\u001b[93mDEBUG: Trying to match against 'mul(11,8)'\u001b[0m\n",
      "\u001b[93mDEBUG: Trying to match against 'do()'\u001b[0m\n",
      "\u001b[93mDEBUG: Trying to match against 'mul(8,5)'\u001b[0m\n",
      "\u001b[93mDEBUG: Calculated product as 40\u001b[0m\n",
      "Final resulting sum is 48\n",
      "Final resulting sum is 83595109\n"
     ]
    }
   ],
   "source": [
    "function dostuff {\n",
    "    [CmdletBinding()] Param(\n",
    "        [Parameter(Mandatory=$false)]\n",
    "        [switch] $sample,\n",
    "        [Parameter(Mandatory=$false)]\n",
    "        [switch] $part2\n",
    "    )\n",
    "\n",
    "    if($sample) {\n",
    "        $data = if($part2) {\n",
    "            $sample_data2\n",
    "        } else {\n",
    "            $sample_data\n",
    "        }\n",
    "    } else {\n",
    "        $data = $input_data\n",
    "    }\n",
    "\n",
    "    # Regular expression pattern to match valid 'mul' instructions\n",
    "    $pattern = \"mul\\(\\d{1,3},\\d{1,3}\\)|do\\(\\)|don't\\(\\)\"\n",
    "\n",
    "    $instructions = Select-String -Pattern $pattern -InputObject $data -AllMatches\n",
    "\n",
    "    $resultSum = 0\n",
    "    $mulEnabled = $true\n",
    "    foreach ($instruction in $instructions.Matches.Value ) {\n",
    "        Write-Debug \"Trying to match against '$instruction'\"\n",
    "        switch($instruction) {\n",
    "            'do()' {\n",
    "                $mulEnabled = $true\n",
    "            }\n",
    "            'don''t()' {\n",
    "                $mulEnabled = $false\n",
    "            }\n",
    "            default {\n",
    "                if($mulEnabled -or !$part2) {\n",
    "                    # Extract numbers from match\n",
    "                    $results = Select-String -Pattern \"(\\d+),(\\d+)\" -InputObject $instruction -AllMatches\n",
    "                    # Calculate product of two numbers\n",
    "                    $product = [int]$results.Matches.Groups[1].Value * [int]$results.Matches.Groups[2].Value\n",
    "                    Write-Debug \"Calculated product as $product\"\n",
    "                    if($product -eq 0) { Write-Warning \"Got a 0 product, was $instruction correctly identified as a mul?\" }\n",
    "                    # Add product to result\n",
    "                    $resultSum += $product\n",
    "                }\n",
    "            }\n",
    "        }\n",
    "\n",
    "    }\n",
    "\n",
    "    Write-Output \"Final resulting sum is $resultSum\"\n",
    "\n",
    "}\n",
    "\n",
    "dostuff -sample -Debug\n",
    "dostuff\n",
    "dostuff -sample -Debug -part2\n",
    "dostuff -part2"
   ]
  },
  {
   "cell_type": "markdown",
   "metadata": {},
   "source": [
    "# Part Two\n",
    "\n",
    "As you scan through the corrupted memory, you notice that some of the conditional statements are also still intact. If you handle some of the uncorrupted conditional statements in the program, you might be able to get an even more accurate result.\n",
    "\n",
    "There are two new instructions you'll need to handle:\n",
    "\n",
    "- The `do()` instruction _enables_ future `mul` instructions.\n",
    "- The `don't()` instruction _disables_ future `mul` instructions.\n",
    "\n",
    "Only the _most recent_ `do()` or `don't()` instruction applies. At the beginning of the program, `mul` instructions are _enabled_.\n",
    "\n",
    "For example:\n",
    "\n",
    "```\n",
    "xmul(2,4)&mul[3,7]!^don't()_mul(5,5)+mul(32,64](mul(11,8)undo()?mul(8,5))\n",
    "```\n",
    "\n",
    "This corrupted memory is similar to the example from before, but this time the `mul(5,5)` and `mul(11,8)` instructions are _disabled_ because there is a `don't()` instruction before them. The other `mul` instructions function normally, including the one at the end that gets re-_enabled_ by a `do()` instruction.\n",
    "\n",
    "This time, the sum of the results is `_48_` (`2*4 + 8*5`).\n",
    "\n",
    "Handle the new instructions; _what do you get if you add up all of the results of just the enabled multiplications?_"
   ]
  }
 ],
 "metadata": {
  "kernelspec": {
   "display_name": ".NET (PowerShell)",
   "language": "PowerShell",
   "name": ".net-pwsh"
  },
  "language_info": {
   "name": "polyglot-notebook"
  },
  "polyglot_notebook": {
   "kernelInfo": {
    "defaultKernelName": "pwsh",
    "items": [
     {
      "aliases": [],
      "languageName": "pwsh",
      "name": "pwsh"
     }
    ]
   }
  }
 },
 "nbformat": 4,
 "nbformat_minor": 2
}
