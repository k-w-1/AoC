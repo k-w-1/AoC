{
 "cells": [
  {
   "cell_type": "markdown",
   "metadata": {},
   "source": [
    "# Day 5: If You Give A Seed A Fertilizer\n",
    "\n",
    "You take the boat and find the gardener right where you were told he would be: managing a giant \"garden\" that looks more to you like a farm.\n",
    "\n",
    "\"A water source? Island Island _is_ the water source!\" You point out that Snow Island isn't receiving any water.\n",
    "\n",
    "\"Oh, we had to stop the water because we _ran out of sand_ to [filter](https://en.wikipedia.org/wiki/Sand_filter) it with! Can't make snow with dirty water. Don't worry, I'm sure we'll get more sand soon; we only turned off the water a few days... weeks... oh no.\" His face sinks into a look of horrified realization.\n",
    "\n",
    "\"I've been so busy making sure everyone here has food that I completely forgot to check why we stopped getting more sand! There's a ferry leaving soon that is headed over in that direction - it's much faster than your boat. Could you please go check it out?\"\n",
    "\n",
    "You barely have time to agree to this request when he brings up another. \"While you wait for the ferry, maybe you can help us with our _food production problem_. The latest Island Island [Almanac](https://en.wikipedia.org/wiki/Almanac) just arrived and we're having trouble making sense of it.\"\n",
    "\n",
    "The almanac (your puzzle input) lists all of the seeds that need to be planted. It also lists what type of soil to use with each kind of seed, what type of fertilizer to use with each kind of soil, what type of water to use with each kind of fertilizer, and so on. Every type of seed, soil, fertilizer and so on is identified with a number, but numbers are reused by each category - that is, soil `123` and fertilizer `123` aren't necessarily related to each other.\n",
    "\n",
    "For example:\n",
    "\n",
    "```\n",
    "seeds: 79 14 55 13\n",
    "\n",
    "seed-to-soil map:\n",
    "50 98 2\n",
    "52 50 48\n",
    "\n",
    "soil-to-fertilizer map:\n",
    "0 15 37\n",
    "37 52 2\n",
    "39 0 15\n",
    "\n",
    "fertilizer-to-water map:\n",
    "49 53 8\n",
    "0 11 42\n",
    "42 0 7\n",
    "57 7 4\n",
    "\n",
    "water-to-light map:\n",
    "88 18 7\n",
    "18 25 70\n",
    "\n",
    "light-to-temperature map:\n",
    "45 77 23\n",
    "81 45 19\n",
    "68 64 13\n",
    "\n",
    "temperature-to-humidity map:\n",
    "0 69 1\n",
    "1 0 69\n",
    "\n",
    "humidity-to-location map:\n",
    "60 56 37\n",
    "56 93 4\n",
    "```\n",
    "\n",
    "The almanac starts by listing which seeds need to be planted: seeds `79`, `14`, `55`, and `13`.\n",
    "\n",
    "The rest of the almanac contains a list of _maps_ which describe how to convert numbers from a _source category_ into numbers in a _destination category_. That is, the section that starts with `seed-to-soil map:` describes how to convert a _seed number_ (the source) to a _soil number_ (the destination). This lets the gardener and his team know which soil to use with which seeds, which water to use with which fertilizer, and so on.\n",
    "\n",
    "Rather than list every source number and its corresponding destination number one by one, the maps describe entire _ranges_ of numbers that can be converted. Each line within a map contains three numbers: the _destination range start_, the _source range start_, and the _range length_.\n",
    "\n",
    "Consider again the example `seed-to-soil map`:\n",
    "\n",
    "```\n",
    "50 98 2\n",
    "52 50 48\n",
    "```\n",
    "\n",
    "The first line has a _destination range start_ of `50`, a _source range start_ of `98`, and a _range length_ of `2`. This line means that the source range starts at `98` and contains two values: `98` and `99`. The destination range is the same length, but it starts at `50`, so its two values are `50` and `51`. With this information, you know that seed number `98` corresponds to soil number `50` and that seed number `99` corresponds to soil number `51`.\n",
    "\n",
    "The second line means that the source range starts at `50` and contains `48` values: `50`, `51`, ..., `96`, `97`. This corresponds to a destination range starting at `52` and also containing `48` values: `52`, `53`, ..., `98`, `99`. So, seed number `53` corresponds to soil number `55`.\n",
    "\n",
    "Any source numbers that _aren't mapped_ correspond to the _same_ destination number. So, seed number `10` corresponds to soil number `10`.\n",
    "\n",
    "So, the entire list of seed numbers and their corresponding soil numbers looks like this:\n",
    "\n",
    "```\n",
    "seed  soil\n",
    "0     0\n",
    "1     1\n",
    "...   ...\n",
    "48    48\n",
    "49    49\n",
    "50    52\n",
    "51    53\n",
    "...   ...\n",
    "96    98\n",
    "97    99\n",
    "98    50\n",
    "99    51\n",
    "```\n",
    "\n",
    "With this map, you can look up the soil number required for each initial seed number:\n",
    "\n",
    "- Seed number `79` corresponds to soil number `81`.\n",
    "- Seed number `14` corresponds to soil number `14`.\n",
    "- Seed number `55` corresponds to soil number `57`.\n",
    "- Seed number `13` corresponds to soil number `13`.\n",
    "\n",
    "The gardener and his team want to get started as soon as possible, so they'd like to know the closest location that needs a seed. Using these maps, find _the lowest location number that corresponds to any of the initial seeds_. To do this, you'll need to convert each seed number through other categories until you can find its corresponding _location number_. In this example, the corresponding types are:\n",
    "\n",
    "- Seed `79`, soil `81`, fertilizer `81`, water `81`, light `74`, temperature `78`, humidity `78`, _location `82`_.\n",
    "- Seed `14`, soil `14`, fertilizer `53`, water `49`, light `42`, temperature `42`, humidity `43`, _location `43`_.\n",
    "- Seed `55`, soil `57`, fertilizer `57`, water `53`, light `46`, temperature `82`, humidity `82`, _location `86`_.\n",
    "- Seed `13`, soil `13`, fertilizer `52`, water `41`, light `34`, temperature `34`, humidity `35`, _location `35`_.\n",
    "\n",
    "So, the lowest location number in this example is `_35_`.\n",
    "\n",
    "_What is the lowest location number that corresponds to any of the initial seed numbers?_"
   ]
  },
  {
   "cell_type": "code",
   "execution_count": 4,
   "metadata": {
    "dotnet_interactive": {
     "language": "pwsh"
    },
    "polyglot_notebook": {
     "kernelName": "pwsh"
    }
   },
   "outputs": [],
   "source": [
    "$sample_data = @'\n",
    "seeds: 79 14 55 13\n",
    "\n",
    "seed-to-soil map:\n",
    "50 98 2\n",
    "52 50 48\n",
    "\n",
    "soil-to-fertilizer map:\n",
    "0 15 37\n",
    "37 52 2\n",
    "39 0 15\n",
    "\n",
    "fertilizer-to-water map:\n",
    "49 53 8\n",
    "0 11 42\n",
    "42 0 7\n",
    "57 7 4\n",
    "\n",
    "water-to-light map:\n",
    "88 18 7\n",
    "18 25 70\n",
    "\n",
    "light-to-temperature map:\n",
    "45 77 23\n",
    "81 45 19\n",
    "68 64 13\n",
    "\n",
    "temperature-to-humidity map:\n",
    "0 69 1\n",
    "1 0 69\n",
    "\n",
    "humidity-to-location map:\n",
    "60 56 37\n",
    "56 93 4\n",
    "'@ -split \"`n\"\n",
    "\n",
    "$input_data = Get-Content .\\data.txt"
   ]
  },
  {
   "cell_type": "markdown",
   "metadata": {},
   "source": [
    "## Code\n",
    "Heh, was going to do more Regex, but actually, not really necessary for once :D\n",
    "\n",
    "Anyway - by precomputing the range ends, I'm using extra memory to save processing; but I feel like that'll be OK.\n",
    "\n",
    "Also: I'm worried that my part 1 solution might need heavy refactor once I see part 2. Also I'm fairly certain it'll crash & burn if there's any overlap in ranges (although since they didn't explain how to address that, it shouldn't happen....?)."
   ]
  },
  {
   "cell_type": "code",
   "execution_count": 5,
   "metadata": {
    "dotnet_interactive": {
     "language": "pwsh"
    },
    "polyglot_notebook": {
     "kernelName": "pwsh"
    }
   },
   "outputs": [],
   "source": [
    "function dostuff {\n",
    "    [CmdletBinding()] Param(\n",
    "        [Parameter(Mandatory=$false)]\n",
    "        [switch] $sample,\n",
    "        [Parameter(Mandatory=$false)]\n",
    "        [switch] $part2\n",
    "    )\n",
    "\n",
    "    if($sample) {\n",
    "        $data = $sample_data\n",
    "    } else {\n",
    "        $data = $input_data\n",
    "    }\n",
    "\n",
    "    ## Get our list of seeds....\n",
    "    $seeds = ($data[0].split(': '))[1].split(' ')\n",
    "    if($part2) {\n",
    "        $temp = [System.Collections.ArrayList]::new()\n",
    "        for($x=0; $x -lt $seeds.count; $x+=2 ) { #nb that we're jumping by twos\n",
    "            $temp.add([PSCustomObject] @{\n",
    "                start  = [long]$seeds[$x]\n",
    "                end    = [long]$seeds[$x] + [long]$seeds[$x+1] - 1 # less one because the start is included in the range length\n",
    "                })\n",
    "        }\n",
    "        $seeds = $temp\n",
    "    }\n",
    "\n",
    "    ## Prepare a \"multilayer map\" of the data\n",
    "\n",
    "    $current_map_layer = 0\n",
    "    $layers = @()\n",
    "    1..7 | % {$layers += ,[System.Collections.ArrayList]::new()} # based on the different layers of things\n",
    "    # line 0 is seeds, line 1 is blank, line 2 is first map\n",
    "    for($x=3; $x -lt $data.count; $x++) {\n",
    "        #if we hit a blank, means a new map layer is incoming\n",
    "        if($data[$x] -eq '') {\n",
    "            $current_map_layer++\n",
    "            $x++ #skip the blank line. The for loop will still iterate to skip the layer desc (layer-to-layer map:)\n",
    "            Write-Debug \"Processed layer $($current_map_layer) with $($layers[$current_map_layer-1].count) spans\"\n",
    "            continue\n",
    "        }\n",
    "        #Write-Verbose \"Working line $x as `\"$($data[$x])`\"\"\n",
    "        $values = $data[$x].split(' ')\n",
    "\n",
    "        # build up a nice object of the values\n",
    "        $map = [PSCustomObject]::new()\n",
    "        [PSCustomObject]$map = @{\n",
    "            start  = [long]$values[1]\n",
    "            end    = [long]$values[1] + [long]$values[2] - 1 # less one because the start is included in the range length\n",
    "            offset = [long]$values[0] - [long]$values[1]\n",
    "        }\n",
    "\n",
    "        $layers[$current_map_layer].add($map) | Out-Null\n",
    "    }\n",
    "\n",
    "    [long]$best_location = 999999999999999999\n",
    "    ## Iterate over seeds\n",
    "    foreach($seed in $seeds){\n",
    "        # Note: 'not found' in a layer means it's equal to the current number\n",
    "        if(!$part2) {\n",
    "            $pos = [long]$seed\n",
    "        }\n",
    "        for($x=0; $x -lt $layers.count; $x++) {\n",
    "            #collect the span(s) that apply for this seed (series)\n",
    "\n",
    "            #    3456    seeds\n",
    "            #     456789 layers3\n",
    "            #  12345\n",
    "            if(!$part2) {\n",
    "                $map = $layers[$x] | ? {\n",
    "                        $_.start -le $seed.start -and $_.end -ge $seed.start # overlaps to the left\n",
    "                        $_.start -le $seed.end -and $_.end -ge $seed.end # overlaps to the right\n",
    "                    }\n",
    "            } else {\n",
    "                $map = $layers[$x] | ? {$_.start -le $pos -and $_.end -ge $pos}\n",
    "            }\n",
    "            if($map.count -lt 1) {\n",
    "                Write-Verbose \"Processing $seed, layer $($x+1) didn't have any match so it continues to be $pos\"\n",
    "            } elseif(($map.GetType()).FullName -eq \"System.Object[]\") {\n",
    "                foreach($item in $map) {\n",
    "                    Write-Error \"Seed $seed, layer $($x+1) matches [S=$($item.start) E=$($item.end) O=$($item.offset)]\"\n",
    "                }\n",
    "                Write-Error \"Matched more than one!\"\n",
    "            } else {\n",
    "                Write-Verbose \"Processing $seed, layer $($x+1) matches [S=$($map.start) E=$($map.end) O=$($map.offset)]. Pos: $pos, new pos: $($pos + $map.offset)\"\n",
    "                $pos = $pos + $map.offset\n",
    "            }\n",
    "        }\n",
    "        Write-Debug \"Final location for $seed was $pos\"\n",
    "        if($pos -lt $best_location) {\n",
    "            $best_location = $pos\n",
    "            Write-Debug \"New best location: $best_location\"\n",
    "        }\n",
    "\n",
    "    }\n",
    "\n",
    "    return $best_location\n",
    "}"
   ]
  },
  {
   "cell_type": "code",
   "execution_count": 6,
   "metadata": {
    "dotnet_interactive": {
     "language": "pwsh"
    },
    "polyglot_notebook": {
     "kernelName": "pwsh"
    }
   },
   "outputs": [
    {
     "name": "stdout",
     "output_type": "stream",
     "text": [
      "\u001b[93mDEBUG: Processed layer 1 with 2 spans\u001b[0m\n",
      "\u001b[93mDEBUG: Processed layer 2 with 3 spans\u001b[0m\n",
      "\u001b[93mDEBUG: Processed layer 3 with 4 spans\u001b[0m\n",
      "\u001b[93mDEBUG: Processed layer 4 with 2 spans\u001b[0m\n",
      "\u001b[93mDEBUG: Processed layer 5 with 3 spans\u001b[0m\n",
      "\u001b[93mDEBUG: Processed layer 6 with 2 spans\u001b[0m\n",
      "\u001b[93mDEBUG: Final location for 79 was 82\u001b[0m\n",
      "\u001b[93mDEBUG: New best location: 999999999999999999\u001b[0m\n",
      "\u001b[93mDEBUG: Final location for 14 was 43\u001b[0m\n",
      "\u001b[93mDEBUG: New best location: 82\u001b[0m\n",
      "\u001b[93mDEBUG: Final location for 55 was 86\u001b[0m\n",
      "\u001b[93mDEBUG: Final location for 13 was 35\u001b[0m\n",
      "\u001b[93mDEBUG: New best location: 43\u001b[0m\n",
      "Best location to start planting is 35\n"
     ]
    }
   ],
   "source": [
    "Write-Output \"Best location to start planting is $(dostuff -sample -debug)\""
   ]
  },
  {
   "cell_type": "code",
   "execution_count": 7,
   "metadata": {
    "dotnet_interactive": {
     "language": "pwsh"
    },
    "polyglot_notebook": {
     "kernelName": "pwsh"
    }
   },
   "outputs": [
    {
     "name": "stdout",
     "output_type": "stream",
     "text": [
      "Best location to start planting is 218513636\r\n"
     ]
    }
   ],
   "source": [
    "Write-Output \"Best location to start planting is $(dostuff)\""
   ]
  },
  {
   "cell_type": "markdown",
   "metadata": {},
   "source": [
    "## Part Two\n",
    "\n",
    "Everyone will starve if you only plant such a small number of seeds. Re-reading the almanac, it looks like the `seeds:` line actually describes _ranges of seed numbers_.\n",
    "\n",
    "The values on the initial `seeds:` line come in pairs. Within each pair, the first value is the _start_ of the range and the second value is the _length_ of the range. So, in the first line of the example above:\n",
    "\n",
    "```\n",
    "seeds: 79 14 55 13\n",
    "```\n",
    "\n",
    "This line describes two ranges of seed numbers to be planted in the garden. The first range starts with seed number `79` and contains `14` values: `79`, `80`, ..., `91`, `92`. The second range starts with seed number `55` and contains `13` values: `55`, `56`, ..., `66`, `67`.\n",
    "\n",
    "Now, rather than considering four seed numbers, you need to consider a total of _27_ seed numbers.\n",
    "\n",
    "In the above example, the lowest location number can be obtained from seed number `82`, which corresponds to soil `84`, fertilizer `84`, water `84`, light `77`, temperature `45`, humidity `46`, and _location `46`_. So, the lowest location number is `_46_`.\n",
    "\n",
    "Consider all of the initial seed numbers listed in the ranges on the first line of the almanac. _What is the lowest location number that corresponds to any of the initial seed numbers?_"
   ]
  },
  {
   "cell_type": "code",
   "execution_count": 8,
   "metadata": {
    "dotnet_interactive": {
     "language": "pwsh"
    },
    "polyglot_notebook": {
     "kernelName": "pwsh"
    }
   },
   "outputs": [
    {
     "ename": "Error",
     "evalue": "(1,14): error CS1002: ; expected",
     "output_type": "error",
     "traceback": [
      "(1,14): error CS1002: ; expected"
     ]
    }
   ],
   "source": [
    "Write-Output \"Best location to start planting is $(dostuff -sample -part2 -Debug)\""
   ]
  }
 ],
 "metadata": {
  "kernelspec": {
   "display_name": ".NET (C#)",
   "language": "C#",
   "name": ".net-csharp"
  },
  "language_info": {
   "name": "polyglot-notebook"
  },
  "polyglot_notebook": {
   "kernelInfo": {
    "defaultKernelName": "csharp",
    "items": [
     {
      "aliases": [],
      "name": "csharp"
     },
     {
      "aliases": [],
      "languageName": "pwsh",
      "name": "pwsh"
     }
    ]
   }
  }
 },
 "nbformat": 4,
 "nbformat_minor": 2
}
