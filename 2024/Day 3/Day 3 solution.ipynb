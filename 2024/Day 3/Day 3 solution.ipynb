{
 "cells": [
  {
   "cell_type": "markdown",
   "metadata": {},
   "source": [
    "# Day 3: Mull It Over\n",
    "\n",
    "\"Our computers are having issues, so I have no idea if we have any Chief Historians in stock! You're welcome to check the warehouse, though,\" says the mildly flustered shopkeeper at the [North Pole Toboggan Rental Shop](https://adventofcode.com/2020/day/2). The Historians head out to take a look.\n",
    "\n",
    "The shopkeeper turns to you. \"Any chance you can see why our computers are having issues again?\"\n",
    "\n",
    "The computer appears to be trying to run a program, but its memory (your puzzle input) is _corrupted_. All of the instructions have been jumbled up!\n",
    "\n",
    "It seems like the goal of the program is just to _multiply some numbers_. It does that with instructions like `mul(X,Y)`, where `X` and `Y` are each 1-3 digit numbers. For instance, `mul(44,46)` multiplies `44` by `46` to get a result of `2024`. Similarly, `mul(123,4)` would multiply `123` by `4`.\n",
    "\n",
    "However, because the program's memory has been corrupted, there are also many invalid characters that should be _ignored_, even if they look like part of a `mul` instruction. Sequences like `mul(4*`, `mul(6,9!`, `?(12,34)`, or `mul ( 2 , 4 )` do _nothing_.\n",
    "\n",
    "For example, consider the following section of corrupted memory:\n",
    "\n",
    "```\n",
    "xmul(2,4)%&mul[3,7]!@^do_not_mul(5,5)+mul(32,64]then(mul(11,8)mul(8,5))\n",
    "```\n",
    "\n",
    "Only the four highlighted sections are real `mul` instructions. Adding up the result of each instruction produces `_161_` (`2*4 + 5*5 + 11*8 + 8*5`).\n",
    "\n",
    "Scan the corrupted memory for uncorrupted `mul` instructions. _What do you get if you add up all of the results of the multiplications?_"
   ]
  },
  {
   "cell_type": "code",
   "execution_count": null,
   "metadata": {
    "dotnet_interactive": {
     "language": "pwsh"
    },
    "polyglot_notebook": {
     "kernelName": "pwsh"
    }
   },
   "outputs": [],
   "source": [
    "$sample_data = @'\n",
    "xmul(2,4)%&mul[3,7]!@^do_not_mul(5,5)+mul(32,64]then(mul(11,8)mul(8,5))\n",
    "'@\n",
    "\n",
    "$input_data = Get-Content .\\data.txt"
   ]
  },
  {
   "cell_type": "code",
   "execution_count": null,
   "metadata": {
    "dotnet_interactive": {
     "language": "pwsh"
    },
    "polyglot_notebook": {
     "kernelName": "pwsh"
    }
   },
   "outputs": [
    {
     "name": "stdout",
     "output_type": "stream",
     "text": [
      "\u001b[93mDEBUG: Line 7 6 4 2 1 is safe!\u001b[0m\n",
      "\u001b[93mDEBUG: Line 1 2 7 8 9 is safe!\u001b[0m\n",
      "\u001b[93mDEBUG: Line 9 7 6 2 1 is safe!\u001b[0m\n",
      "\u001b[93mDEBUG: Line 1 3 2 4 5 is unsafe because it's increasing, but 3 > 2\u001b[0m\n",
      "\u001b[93mDEBUG: Line 1 3 2 4 5 is safe!\u001b[0m\n",
      "\u001b[93mDEBUG: Line 8 6 4 4 1 is unsafe because has equal reports.\u001b[0m\n",
      "\u001b[93mDEBUG: Line 8 6 4 4 1 is safe!\u001b[0m\n",
      "\u001b[93mDEBUG: Line 1 3 6 7 9 is safe!\u001b[0m\n",
      "Total safe reports: 6\n"
     ]
    }
   ],
   "source": [
    "function dostuff {\n",
    "    [CmdletBinding()] Param(\n",
    "        [Parameter(Mandatory=$false)]\n",
    "        [switch] $sample,\n",
    "        [Parameter(Mandatory=$false)]\n",
    "        [switch] $part2\n",
    "    )\n",
    "\n",
    "    if($sample) {\n",
    "        $data = $sample_data\n",
    "    } else {\n",
    "        $data = $input_data\n",
    "    }\n",
    "\n",
    "    \n",
    "\n",
    "}\n",
    "\n",
    "dostuff -sample -Debug"
   ]
  }
 ],
 "metadata": {
  "kernelspec": {
   "display_name": ".NET (PowerShell)",
   "language": "PowerShell",
   "name": ".net-pwsh"
  },
  "language_info": {
   "name": "polyglot-notebook"
  },
  "polyglot_notebook": {
   "kernelInfo": {
    "defaultKernelName": "pwsh",
    "items": [
     {
      "aliases": [],
      "languageName": "pwsh",
      "name": "pwsh"
     }
    ]
   }
  }
 },
 "nbformat": 4,
 "nbformat_minor": 2
}
