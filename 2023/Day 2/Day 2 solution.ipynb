{
 "cells": [
  {
   "cell_type": "markdown",
   "metadata": {},
   "source": [
    "### Day 2\n",
    "\n",
    "You're launched high into the atmosphere! The apex of your trajectory just barely reaches the surface of a large island floating in the sky. You gently land in a fluffy pile of leaves. It's quite cold, but you don't see much snow. An Elf runs over to greet you.\n",
    "\n",
    "The Elf explains that you've arrived at Snow Island and apologizes for the lack of snow. He'll be happy to explain the situation, but it's a bit of a walk, so you have some time. They don't get many visitors up here; would you like to play a game in the meantime?\n",
    "\n",
    "As you walk, the Elf shows you a small bag and some cubes which are either red, green, or blue. Each time you play this game, he will hide a secret number of cubes of each color in the bag, and your goal is to figure out information about the number of cubes.\n",
    "\n",
    "To get information, once a bag has been loaded with cubes, the Elf will reach into the bag, grab a handful of random cubes, show them to you, and then put them back in the bag. He'll do this a few times per game.\n",
    "\n",
    "You play several games and record the information from each game (your puzzle input). Each game is listed with its ID number (like the 11 in Game 11: ...) followed by a semicolon-separated list of subsets of cubes that were revealed from the bag (like 3 red, 5 green, 4 blue).\n",
    "\n",
    "For example, the record of a few games might look like this:\n",
    "\n",
    "```\n",
    "Game 1: 3 blue, 4 red; 1 red, 2 green, 6 blue; 2 green\n",
    "Game 2: 1 blue, 2 green; 3 green, 4 blue, 1 red; 1 green, 1 blue\n",
    "Game 3: 8 green, 6 blue, 20 red; 5 blue, 4 red, 13 green; 5 green, 1 red\n",
    "Game 4: 1 green, 3 red, 6 blue; 3 green, 6 red; 3 green, 15 blue, 14 red\n",
    "Game 5: 6 red, 1 blue, 3 green; 2 blue, 1 red, 2 green\n",
    "```\n",
    "\n",
    "In game 1, three sets of cubes are revealed from the bag (and then put back again). The first set is 3 blue cubes and 4 red cubes; the second set is 1 red cube, 2 green cubes, and 6 blue cubes; the third set is only 2 green cubes.\n",
    "\n",
    "The Elf would first like to know which games would have been possible if the bag contained *only 12 red cubes, 13 green cubes, and 14 blue cubes*?\n",
    "\n",
    "In the example above, games 1, 2, and 5 would have been possible if the bag had been loaded with that configuration. However, game 3 would have been *impossible* because at one point the Elf showed you 20 red cubes at once; similarly, game 4 would also have been *impossible* because the Elf showed you 15 blue cubes at once. If you add up the IDs of the games that would have been possible, you get `8`.\n",
    "\n",
    "Determine which games would have been possible if the bag had been loaded with only 12 red cubes, 13 green cubes, and 14 blue cubes. *What is the sum of the IDs of those games?*\n",
    "\n",
    "#### Sample Data"
   ]
  },
  {
   "cell_type": "code",
   "execution_count": 1,
   "metadata": {
    "dotnet_interactive": {
     "language": "pwsh"
    },
    "polyglot_notebook": {
     "kernelName": "pwsh"
    }
   },
   "outputs": [],
   "source": [
    "$sample_data = (@'\n",
    "Game 1: 3 blue, 4 red; 1 red, 2 green, 6 blue; 2 green\n",
    "Game 2: 1 blue, 2 green; 3 green, 4 blue, 1 red; 1 green, 1 blue\n",
    "Game 3: 8 green, 6 blue, 20 red; 5 blue, 4 red, 13 green; 5 green, 1 red\n",
    "Game 4: 1 green, 3 red, 6 blue; 3 green, 6 red; 3 green, 15 blue, 14 red\n",
    "Game 5: 6 red, 1 blue, 3 green; 2 blue, 1 red, 2 green\n",
    "'@) -split \"`n\"\n",
    "\n",
    "$data = Get-Content .\\data.txt"
   ]
  },
  {
   "cell_type": "markdown",
   "metadata": {},
   "source": [
    "### Code"
   ]
  },
  {
   "cell_type": "code",
   "execution_count": 25,
   "metadata": {
    "dotnet_interactive": {
     "language": "pwsh"
    },
    "polyglot_notebook": {
     "kernelName": "pwsh"
    }
   },
   "outputs": [],
   "source": [
    "function dostuff {\n",
    "    Param(\n",
    "        [Parameter(Mandatory=$true, Position=0)]\n",
    "        $data,\n",
    "        [Parameter(Mandatory=$false, Position=1)]\n",
    "        $in_the_bag,\n",
    "        [Parameter(Mandatory=$false, Position=2)]\n",
    "        [switch] $part2\n",
    "    )\n",
    "\n",
    "    $total = 0\n",
    "\n",
    "    foreach($line in $data) {\n",
    "        $t = ($line -split ': ')\n",
    "        $id = ($t[0] -split ' ')[1]\n",
    "        $turns = $t[1] -split '; '\n",
    "        Write-Debug \"GameID: $id has $($turns.Count) turns.\"\n",
    "        $best_vals = @{'red'=0;'green'=0;'blue'=0}\n",
    "        foreach($turn in $turns) {\n",
    "            $vals = @{'red'=0;'green'=0;'blue'=0}\n",
    "            $colours = $turn -split ', '\n",
    "            foreach($colour in $colours) {\n",
    "                $c = $colour -split ' '\n",
    "                $vals[$c[1]] = [int]$c[0]\n",
    "                if($vals[$c[1]] -gt $best_vals[$c[1]]) {\n",
    "                    $best_vals[$c[1]] = $vals[$c[1]]\n",
    "                }\n",
    "            }\n",
    "            Write-Verbose ($vals.Values -join '|')\n",
    "        }\n",
    "\n",
    "        if(!$part2) {\n",
    "            if($best_vals['red'] -le $in_the_bag['red'] -and $best_vals['green'] -le $in_the_bag['green'] -and $best_vals['blue'] -le $in_the_bag['blue']) {\n",
    "                $total += $id\n",
    "                Write-Debug \"`tBest values: $($best_vals.Values -join '|'). ID included, total=$total\"\n",
    "            } else {\n",
    "                Write-Debug \"`tBest values: $($best_vals.Values -join '|'). ID NOT included, total=$total\"\n",
    "            }\n",
    "        } else {\n",
    "            $power = $best_vals['red'] * $best_vals['green'] * $best_vals['blue']\n",
    "            $total += $power\n",
    "            Write-Debug \"`tBest values: $($best_vals.Values -join '|'). Powers of these: $power, total=$total\"\n",
    "        }\n",
    "    }\n",
    "    return $total\n",
    "}"
   ]
  },
  {
   "cell_type": "code",
   "execution_count": 23,
   "metadata": {
    "dotnet_interactive": {
     "language": "pwsh"
    },
    "polyglot_notebook": {
     "kernelName": "pwsh"
    }
   },
   "outputs": [
    {
     "name": "stdout",
     "output_type": "stream",
     "text": [
      "\u001b[93mDEBUG: GameID: 1 has 3 turns.\u001b[0m\n",
      "\u001b[93mDEBUG: \tBest values: 4|2|6. ID included, total=1\u001b[0m\n",
      "\u001b[93mDEBUG: GameID: 2 has 3 turns.\u001b[0m\n",
      "\u001b[93mDEBUG: \tBest values: 1|3|4. ID included, total=3\u001b[0m\n",
      "\u001b[93mDEBUG: GameID: 3 has 3 turns.\u001b[0m\n",
      "\u001b[93mDEBUG: \tBest values: 20|13|6. ID NOT included, total=3\u001b[0m\n",
      "\u001b[93mDEBUG: GameID: 4 has 3 turns.\u001b[0m\n",
      "\u001b[93mDEBUG: \tBest values: 14|3|15. ID NOT included, total=3\u001b[0m\n",
      "\u001b[93mDEBUG: GameID: 5 has 2 turns.\u001b[0m\n",
      "\u001b[93mDEBUG: \tBest values: 6|3|2. ID included, total=8\u001b[0m\n",
      "Final result was 8\n"
     ]
    }
   ],
   "source": [
    "$DebugPreference = 'Continue'\n",
    "$VerbosePreference = 'SilentlyContinue'\n",
    "$results = dostuff $sample_data @{'red'=12;'green'=13;'blue'=14}\n",
    "Write-Output \"Final result was $results\""
   ]
  },
  {
   "cell_type": "code",
   "execution_count": 24,
   "metadata": {
    "dotnet_interactive": {
     "language": "pwsh"
    },
    "polyglot_notebook": {
     "kernelName": "pwsh"
    }
   },
   "outputs": [
    {
     "name": "stdout",
     "output_type": "stream",
     "text": [
      "Final result was 2256\r\n"
     ]
    }
   ],
   "source": [
    "$DebugPreference = 'SilentlyContinue'\n",
    "$VerbosePreference = 'SilentlyContinue'\n",
    "$results = dostuff $data @{'red'=12;'green'=13;'blue'=14}\n",
    "Write-Output \"Final result was $results\""
   ]
  },
  {
   "cell_type": "markdown",
   "metadata": {},
   "source": [
    "## Part Two\n",
    "\n",
    "The Elf says they've stopped producing snow because they aren't getting any *water*! He isn't sure why the water stopped; however, he can show you how to get to the water source to check it out for yourself. It's just up ahead!\n",
    "\n",
    "As you continue your walk, the Elf poses a second question: in each game you played, what is the *fewest number of cubes of each color* that could have been in the bag to make the game possible?\n",
    "\n",
    "Again consider the example games from earlier:\n",
    "\n",
    "```\n",
    "Game 1: 3 blue, 4 red; 1 red, 2 green, 6 blue; 2 green\n",
    "Game 2: 1 blue, 2 green; 3 green, 4 blue, 1 red; 1 green, 1 blue\n",
    "Game 3: 8 green, 6 blue, 20 red; 5 blue, 4 red, 13 green; 5 green, 1 red\n",
    "Game 4: 1 green, 3 red, 6 blue; 3 green, 6 red; 3 green, 15 blue, 14 red\n",
    "Game 5: 6 red, 1 blue, 3 green; 2 blue, 1 red, 2 green\n",
    "```\n",
    "\n",
    "* In game 1, the game could have been played with as few as 4 red, 2 green, and 6 blue cubes. If any color had even one fewer cube, the game would have been impossible.\n",
    "* Game 2 could have been played with a minimum of 1 red, 3 green, and 4 blue cubes.\n",
    "* Game 3 must have been played with at least 20 red, 13 green, and 6 blue cubes.\n",
    "* Game 4 required at least 14 red, 3 green, and 15 blue cubes.\n",
    "* Game 5 needed no fewer than 6 red, 3 green, and 2 blue cubes in the bag.\n",
    "\n",
    "The power of a set of cubes is equal to the numbers of red, green, and blue cubes multiplied together. The power of the minimum set of cubes in game 1 is 48. In games 2-5 it was 12, 1560, 630, and 36, respectively. Adding up these five powers produces the sum 2286.\n",
    "\n",
    "For each game, find the minimum set of cubes that must have been present. What is the sum of the power of these sets?\n"
   ]
  },
  {
   "cell_type": "code",
   "execution_count": 26,
   "metadata": {
    "dotnet_interactive": {
     "language": "pwsh"
    },
    "polyglot_notebook": {
     "kernelName": "pwsh"
    }
   },
   "outputs": [
    {
     "name": "stdout",
     "output_type": "stream",
     "text": [
      "\u001b[93mDEBUG: GameID: 1 has 3 turns.\u001b[0m\n",
      "\u001b[93mDEBUG: \tBest values: 4|2|6. Powers of these: 48, total=48\u001b[0m\n",
      "\u001b[93mDEBUG: GameID: 2 has 3 turns.\u001b[0m\n",
      "\u001b[93mDEBUG: \tBest values: 1|3|4. Powers of these: 12, total=60\u001b[0m\n",
      "\u001b[93mDEBUG: GameID: 3 has 3 turns.\u001b[0m\n",
      "\u001b[93mDEBUG: \tBest values: 20|13|6. Powers of these: 1560, total=1620\u001b[0m\n",
      "\u001b[93mDEBUG: GameID: 4 has 3 turns.\u001b[0m\n",
      "\u001b[93mDEBUG: \tBest values: 14|3|15. Powers of these: 630, total=2250\u001b[0m\n",
      "\u001b[93mDEBUG: GameID: 5 has 2 turns.\u001b[0m\n",
      "\u001b[93mDEBUG: \tBest values: 6|3|2. Powers of these: 36, total=2286\u001b[0m\n",
      "Final result was 2286\n"
     ]
    }
   ],
   "source": [
    "$DebugPreference = 'Continue'\n",
    "$VerbosePreference = 'SilentlyContinue'\n",
    "$results = dostuff $sample_data -part2\n",
    "Write-Output \"Final result was $results\""
   ]
  },
  {
   "cell_type": "code",
   "execution_count": 27,
   "metadata": {
    "dotnet_interactive": {
     "language": "pwsh"
    },
    "polyglot_notebook": {
     "kernelName": "pwsh"
    }
   },
   "outputs": [
    {
     "name": "stdout",
     "output_type": "stream",
     "text": [
      "Final result was 74229\r\n"
     ]
    }
   ],
   "source": [
    "$DebugPreference = 'SilentlyContinue'\n",
    "$VerbosePreference = 'SilentlyContinue'\n",
    "$results = dostuff $data -part2\n",
    "Write-Output \"Final result was $results\""
   ]
  }
 ],
 "metadata": {
  "kernelspec": {
   "display_name": ".NET (C#)",
   "language": "C#",
   "name": ".net-csharp"
  },
  "language_info": {
   "name": "polyglot-notebook"
  },
  "polyglot_notebook": {
   "kernelInfo": {
    "defaultKernelName": "csharp",
    "items": [
     {
      "aliases": [],
      "name": "csharp"
     },
     {
      "aliases": [],
      "languageName": "pwsh",
      "name": "pwsh"
     }
    ]
   }
  }
 },
 "nbformat": 4,
 "nbformat_minor": 2
}
