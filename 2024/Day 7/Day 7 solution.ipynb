{
 "cells": [
  {
   "cell_type": "markdown",
   "metadata": {},
   "source": [
    "# Day 7: Bridge Repair\n",
    "\n",
    "The Historians take you to a familiar [rope bridge](https://adventofcode.com/2022/day/9) over a river in the middle of a jungle. The Chief isn't on this side of the bridge, though; maybe he's on the other side?\n",
    "\n",
    "When you go to cross the bridge, you notice a group of engineers trying to repair it. (Apparently, it breaks pretty frequently.) You won't be able to cross until it's fixed.\n",
    "\n",
    "You ask how long it'll take; the engineers tell you that it only needs final calibrations, but some young elephants were playing nearby and _stole all the operators_ from their calibration equations! They could finish the calibrations if only someone could determine which test values could possibly be produced by placing any combination of operators into their calibration equations (your puzzle input).\n",
    "\n",
    "For example:\n",
    "\n",
    "```\n",
    "190: 10 19\n",
    "3267: 81 40 27\n",
    "83: 17 5\n",
    "156: 15 6\n",
    "7290: 6 8 6 15\n",
    "161011: 16 10 13\n",
    "192: 17 8 14\n",
    "21037: 9 7 18 13\n",
    "292: 11 6 16 20\n",
    "```\n",
    "\n",
    "Each line represents a single equation. The test value appears before the colon on each line; it is your job to determine whether the remaining numbers can be combined with operators to produce the test value.\n",
    "\n",
    "Operators are _always evaluated left-to-right_, _not_ according to precedence rules. Furthermore, numbers in the equations cannot be rearranged. Glancing into the jungle, you can see elephants holding two different types of operators: _add_ (`+`) and _multiply_ (`*`).\n",
    "\n",
    "Only three of the above equations can be made true by inserting operators:\n",
    "\n",
    "- `190: 10 19` has only one position that accepts an operator: between `10` and `19`. Choosing `+` would give `29`, but choosing `*` would give the test value (`10 * 19 = 190`).\n",
    "- `3267: 81 40 27` has two positions for operators. Of the four possible configurations of the operators, _two_ cause the right side to match the test value: `81 + 40 * 27` and `81 * 40 + 27` both equal `3267` (when evaluated left-to-right)!\n",
    "- `292: 11 6 16 20` can be solved in exactly one way: `11 + 6 * 16 + 20`.\n",
    "\n",
    "The engineers just need the _total calibration result_, which is the sum of the test values from just the equations that could possibly be true. In the above example, the sum of the test values for the three equations listed above is `_3749_`.\n",
    "\n",
    "Determine which equations could possibly be true. _What is their total calibration result?_"
   ]
  },
  {
   "cell_type": "code",
   "execution_count": 1,
   "metadata": {
    "dotnet_interactive": {
     "language": "pwsh"
    },
    "polyglot_notebook": {
     "kernelName": "pwsh"
    }
   },
   "outputs": [],
   "source": [
    "$sample_data = (@'\n",
    "190: 10 19\n",
    "3267: 81 40 27\n",
    "83: 17 5\n",
    "156: 15 6\n",
    "7290: 6 8 6 15\n",
    "161011: 16 10 13\n",
    "192: 17 8 14\n",
    "21037: 9 7 18 13\n",
    "292: 11 6 16 20\n",
    "'@).Replace(\"`r\", '') -split \"`n\" \n",
    "\n",
    "$input_data = Get-Content .\\data.txt"
   ]
  },
  {
   "cell_type": "code",
   "execution_count": null,
   "metadata": {
    "dotnet_interactive": {
     "language": "pwsh"
    },
    "polyglot_notebook": {
     "kernelName": "pwsh"
    }
   },
   "outputs": [
    {
     "name": "stdout",
     "output_type": "stream",
     "text": [
      "\u001b[93mDEBUG: Testing 190: 10 19...\u001b[0m\n",
      "DEBUG: Stage 1, results of 19 */+(/||) [10]: [190, 29]\n",
      "\u001b[93mDEBUG: Calibration successful!\u001b[0m\n"
     ]
    },
    {
     "data": {
      "text/plain": [
       "\u001b[30;43m                                                                                                    \n",
       " Processing calibrations...                                                                         \n",
       "    Processing                                                                                      \n",
       "    [                                                                                        ]      \n",
       "                                                                                                    \u001b[0m"
      ]
     },
     "metadata": {},
     "output_type": "display_data"
    },
    {
     "name": "stdout",
     "output_type": "stream",
     "text": [
      "\u001b[93mDEBUG: Testing 3267: 81 40 27...\u001b[0m\n",
      "DEBUG: Stage 1, results of 40 */+(/||) [81]: [3240, 121]\n",
      "DEBUG: Stage 2, results of 27 */+(/||) [3240, 121]: [87480, 3267, 3267, 148]\n",
      "\u001b[93mDEBUG: Calibration successful!\u001b[0m\n",
      "\u001b[93mDEBUG: Testing 83: 17 5...\u001b[0m\n",
      "DEBUG: Stage 1, results of 5 */+(/||) [17]: [85, 22]\n",
      "\u001b[93mDEBUG: Testing 156: 15 6...\u001b[0m\n",
      "DEBUG: Stage 1, results of 6 */+(/||) [15]: [90, 21]\n",
      "\u001b[93mDEBUG: Testing 7290: 6 8 6 15...\u001b[0m\n",
      "DEBUG: Stage 1, results of 8 */+(/||) [6]: [48, 14]\n",
      "DEBUG: Stage 2, results of 6 */+(/||) [48, 14]: [288, 54, 84, 20]\n",
      "DEBUG: Stage 3, results of 15 */+(/||) [288, 54, 84, 20]: [4320, 303, 810, 69, 1260, 99, 300, 35]\n",
      "\u001b[93mDEBUG: Testing 161011: 16 10 13...\u001b[0m\n",
      "DEBUG: Stage 1, results of 10 */+(/||) [16]: [160, 26]\n",
      "DEBUG: Stage 2, results of 13 */+(/||) [160, 26]: [2080, 173, 338, 39]\n",
      "\u001b[93mDEBUG: Testing 192: 17 8 14...\u001b[0m\n",
      "DEBUG: Stage 1, results of 8 */+(/||) [17]: [136, 25]\n",
      "DEBUG: Stage 2, results of 14 */+(/||) [136, 25]: [1904, 150, 350, 39]\n",
      "\u001b[93mDEBUG: Testing 21037: 9 7 18 13...\u001b[0m\n",
      "DEBUG: Stage 1, results of 7 */+(/||) [9]: [63, 16]\n",
      "DEBUG: Stage 2, results of 18 */+(/||) [63, 16]: [1134, 81, 288, 34]\n",
      "DEBUG: Stage 3, results of 13 */+(/||) [1134, 81, 288, 34]: [14742, 1147, 1053, 94, 3744, 301, 442, 47]\n",
      "\u001b[93mDEBUG: Testing 292: 11 6 16 20...\u001b[0m\n",
      "DEBUG: Stage 1, results of 6 */+(/||) [11]: [66, 17]\n",
      "DEBUG: Stage 2, results of 16 */+(/||) [66, 17]: [1056, 82, 272, 33]\n",
      "DEBUG: Stage 3, results of 20 */+(/||) [1056, 82, 272, 33]: [21120, 1076, 1640, 102, 5440, 292, 660, 53]\n",
      "\u001b[93mDEBUG: Calibration successful!\u001b[0m\n",
      "With *SAMPLE* dataset, part 1: total calibration result is 3749\n",
      "Part 1: total calibration result is 882304362421\n",
      "\u001b[93mDEBUG: Testing 190: 10 19...\u001b[0m\n",
      "DEBUG: Stage 1, results of 19 */+(/||) [10]: [190, 29, 1019]\n",
      "\u001b[93mDEBUG: Calibration successful!\u001b[0m\n",
      "\u001b[93mDEBUG: Testing 3267: 81 40 27...\u001b[0m\n",
      "DEBUG: Stage 1, results of 40 */+(/||) [81]: [3240, 121, 8140]\n",
      "DEBUG: Stage 2, results of 27 */+(/||) [3240, 121, 8140]: [87480, 3267, 324027, 3267, 148, 12127, 219780, 8167, 814027]\n",
      "\u001b[93mDEBUG: Calibration successful!\u001b[0m\n",
      "\u001b[93mDEBUG: Testing 83: 17 5...\u001b[0m\n",
      "DEBUG: Stage 1, results of 5 */+(/||) [17]: [85, 22, 175]\n",
      "\u001b[93mDEBUG: Testing 156: 15 6...\u001b[0m\n",
      "DEBUG: Stage 1, results of 6 */+(/||) [15]: [90, 21, 156]\n",
      "\u001b[93mDEBUG: Calibration successful!\u001b[0m\n",
      "\u001b[93mDEBUG: Testing 7290: 6 8 6 15...\u001b[0m\n",
      "DEBUG: Stage 1, results of 8 */+(/||) [6]: [48, 14, 68]\n",
      "DEBUG: Stage 2, results of 6 */+(/||) [48, 14, 68]: [288, 54, 486, 84, 20, 146, 408, 74, 686]\n",
      "DEBUG: Stage 3, results of 15 */+(/||) [288, 54, 486, 84, 20, 146, 408, 74, 686]: [4320, 303, 28815, 810, 69, 5415, 7290, 501, 48615, 1260, 99, 8415, 300, 35, 2015, 2190, 161, 14615, 6120, 423, 40815, 1110, 89, 7415, 10290, 701, 68615]\n",
      "\u001b[93mDEBUG: Calibration successful!\u001b[0m\n",
      "\u001b[93mDEBUG: Testing 161011: 16 10 13...\u001b[0m\n",
      "DEBUG: Stage 1, results of 10 */+(/||) [16]: [160, 26, 1610]\n",
      "DEBUG: Stage 2, results of 13 */+(/||) [160, 26, 1610]: [2080, 173, 16013, 338, 39, 2613, 20930, 1623, 161013]\n",
      "\u001b[93mDEBUG: Testing 192: 17 8 14...\u001b[0m\n",
      "DEBUG: Stage 1, results of 8 */+(/||) [17]: [136, 25, 178]\n",
      "DEBUG: Stage 2, results of 14 */+(/||) [136, 25, 178]: [1904, 150, 13614, 350, 39, 2514, 2492, 192, 17814]\n",
      "\u001b[93mDEBUG: Calibration successful!\u001b[0m\n",
      "\u001b[93mDEBUG: Testing 21037: 9 7 18 13...\u001b[0m\n",
      "DEBUG: Stage 1, results of 7 */+(/||) [9]: [63, 16, 97]\n",
      "DEBUG: Stage 2, results of 18 */+(/||) [63, 16, 97]: [1134, 81, 6318, 288, 34, 1618, 1746, 115, 9718]\n",
      "DEBUG: Stage 3, results of 13 */+(/||) [1134, 81, 6318, 288, 34, 1618, 1746, 115, 9718]: [14742, 1147, 113413, 1053, 94, 8113, 82134, 6331, 631813, 3744, 301, 28813, 442, 47, 3413, 21034, 1631, 161813, 22698, 1759, 174613, 1495, 128, 11513, 126334, 9731, 971813]\n",
      "\u001b[93mDEBUG: Testing 292: 11 6 16 20...\u001b[0m\n",
      "DEBUG: Stage 1, results of 6 */+(/||) [11]: [66, 17, 116]\n",
      "DEBUG: Stage 2, results of 16 */+(/||) [66, 17, 116]: [1056, 82, 6616, 272, 33, 1716, 1856, 132, 11616]\n",
      "DEBUG: Stage 3, results of 20 */+(/||) [1056, 82, 6616, 272, 33, 1716, 1856, 132, 11616]: [21120, 1076, 105620, 1640, 102, 8220, 132320, 6636, 661620, 5440, 292, 27220, 660, 53, 3320, 34320, 1736, 171620, 37120, 1876, 185620, 2640, 152, 13220, 232320, 11636, 1161620]\n",
      "\u001b[93mDEBUG: Calibration successful!\u001b[0m\n",
      "With *SAMPLE* dataset, part 2: total calibration result is 11387\n"
     ]
    }
   ],
   "source": [
    "function dostuff {\n",
    "    [CmdletBinding()] Param(\n",
    "        [Parameter(Mandatory=$false)]\n",
    "        [switch] $sample,\n",
    "        [Parameter(Mandatory=$false)]\n",
    "        [switch] $part2\n",
    "    )\n",
    "    if($sample) {\n",
    "        $data = $sample_data\n",
    "        $out = \"With *SAMPLE* dataset, part \"\n",
    "    } else {\n",
    "        $data = $input_data\n",
    "        $out = \"Part \"\n",
    "    }\n",
    "    $out += $part2 ? '2: ' : '1: '\n",
    "\n",
    "    $dataLines = $data.Count\n",
    "    $progress = 0\n",
    "    $calibrationSum =0\n",
    "    foreach($line in $data) {\n",
    "        $temp = $line.split(': ')\n",
    "        $calibration = [bigint]$temp[0]\n",
    "        $operands = $temp[1].split(' ')\n",
    "\n",
    "        Write-Debug \"Testing $line...\"\n",
    "        $lefthandOperands = @($operands[0])\n",
    "        for($i=1; $i -lt $operands.Count; $i++){\n",
    "            $results = [System.Collections.ArrayList]::new()\n",
    "            foreach($lefthandOperand in $lefthandOperands) {\n",
    "                $results.add([bigint]$lefthandOperand * [bigint]$operands[$i]) | Out-Null\n",
    "                $results.add([bigint]$lefthandOperand + [bigint]$operands[$i]) | Out-Null\n",
    "                if($part2) {\n",
    "                    $results.add([bigint]([string]$lefthandOperand + [string]$operands[$i])) | Out-Null\n",
    "                }\n",
    "            }\n",
    "            Write-Debug \"Stage $i, results of $($operands[$i]) */+(/||) [$($lefthandOperands -join ', ')]: [$($results -join ', ')]\"\n",
    "            #$lefthandOperands.add( $results | ? {$_ -lt $calibration} ) # only keep results still less than the calibration\n",
    "            $lefthandOperands = $results.Clone()\n",
    "        }\n",
    "        \n",
    "        if($calibration -in $results) {\n",
    "            Write-Debug \"Calibration successful!\"\n",
    "            $calibrationSum += $calibration\n",
    "        }\n",
    "\n",
    "        Write-Progress \"Processing calibrations...\" -PercentComplete ($progress++/$dataLines)\n",
    "\n",
    "    }\n",
    "\n",
    "    $out += \"total calibration result is $calibrationSum\"\n",
    "    Write-Output $out\n",
    "}\n",
    "\n",
    "dostuff -sample -Debug\n",
    "dostuff\n",
    "dostuff -part2 -sample -Debug\n",
    "dostuff -part2"
   ]
  },
  {
   "cell_type": "code",
   "execution_count": 1,
   "metadata": {
    "dotnet_interactive": {
     "language": "pwsh"
    },
    "polyglot_notebook": {
     "kernelName": "pwsh"
    }
   },
   "outputs": [
    {
     "name": "stdout",
     "output_type": "stream",
     "text": [
      "\n",
      "\u001b[32;1mline\u001b[0m\u001b[32;1m number\u001b[0m\n",
      "\u001b[32;1m----\u001b[0m \u001b[32;1m------\u001b[0m\n",
      "          0\n",
      "Worst possible max recursion: 0\n",
      "\n"
     ]
    }
   ],
   "source": [
    "# Characterization\n",
    "\n",
    "$greatestOperands = [pscustomobject] @{\n",
    "    line = ''\n",
    "    number = 0\n",
    "}\n",
    "# Operands: 0 1 2 3  4  5  6\n",
    "# 2^ops:    0 1 2 4  8 16 32\n",
    "# sum all:  0 1 3 7 15 31 63 ???... Aliens.\n",
    "\n",
    "$recursionDepths = @(0, 1)\n",
    "$recursionDepths += for($i=2; $i -lt 13; $i++) {\n",
    "    ([System.Math]::Pow(2, $i)-1)\n",
    "}\n",
    "\n",
    "$totalRecursion = 0\n",
    "foreach($line in $input_data) {\n",
    "    $numOperands = (($line.split(': '))[1].split(' ')).count\n",
    "    if($numOperands -gt $greatestOperands.number) {\n",
    "        $greatestOperands.line = $line\n",
    "        $greatestOperands.number = $numOperands\n",
    "    }\n",
    "    $totalRecursion += $recursionDepths[$numOperands]\n",
    "}\n",
    "\n",
    "$greatestOperands\n",
    "Write-Output \"Worst possible max recursion: $totalRecursion\""
   ]
  }
 ],
 "metadata": {
  "kernelspec": {
   "display_name": ".NET (C#)",
   "language": "C#",
   "name": ".net-csharp"
  },
  "language_info": {
   "name": "polyglot-notebook"
  },
  "polyglot_notebook": {
   "kernelInfo": {
    "defaultKernelName": "csharp",
    "items": [
     {
      "aliases": [],
      "name": "csharp"
     },
     {
      "aliases": [],
      "languageName": "pwsh",
      "name": "pwsh"
     }
    ]
   }
  }
 },
 "nbformat": 4,
 "nbformat_minor": 2
}
