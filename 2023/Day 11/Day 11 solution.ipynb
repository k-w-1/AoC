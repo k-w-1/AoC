{
 "cells": [
  {
   "cell_type": "markdown",
   "metadata": {},
   "source": [
    "# Day 11: Cosmic Expansion\n",
    "\n",
    "You continue following signs for \"Hot Springs\" and eventually come across an [observatory](https://en.wikipedia.org/wiki/Observatory). The Elf within turns out to be a researcher studying cosmic expansion using the giant telescope here.\n",
    "\n",
    "He doesn't know anything about the missing machine parts; he's only visiting for this research project. However, he confirms that the hot springs are the next-closest area likely to have people; he'll even take you straight there once he's done with today's observation analysis.\n",
    "\n",
    "Maybe you can help him with the analysis to speed things up?\n",
    "\n",
    "The researcher has collected a bunch of data and compiled the data into a single giant _image_ (your puzzle input). The image includes _empty space_ (`.`) and _galaxies_ (`#`). For example:\n",
    "\n",
    "```\n",
    "...#......\n",
    ".......#..\n",
    "#.........\n",
    "..........\n",
    "......#...\n",
    ".#........\n",
    ".........#\n",
    "..........\n",
    ".......#..\n",
    "#...#.....\n",
    "```\n",
    "\n",
    "The researcher is trying to figure out the sum of the lengths of the _shortest path between every pair of galaxies_. However, there's a catch: the universe expanded in the time it took the light from those galaxies to reach the observatory.\n",
    "\n",
    "Due to something involving gravitational effects, _only some space expands_. In fact, the result is that _any rows or columns that contain no galaxies_ should all actually be twice as big.\n",
    "\n",
    "In the above example, three columns and two rows contain no galaxies:\n",
    "\n",
    "```\n",
    "   v  v  v\n",
    " ...#......\n",
    " .......#..\n",
    " #.........\n",
    ">..........<\n",
    " ......#...\n",
    " .#........\n",
    " .........#\n",
    ">..........<\n",
    " .......#..\n",
    " #...#.....\n",
    "   ^  ^  ^\n",
    "```\n",
    "\n",
    "These rows and columns need to be _twice as big_; the result of cosmic expansion therefore looks like this:\n",
    "\n",
    "```\n",
    "....#........\n",
    ".........#...\n",
    "#............\n",
    ".............\n",
    ".............\n",
    "........#....\n",
    ".#...........\n",
    "............#\n",
    ".............\n",
    ".............\n",
    ".........#...\n",
    "#....#.......\n",
    "```\n",
    "\n",
    "Equipped with this expanded universe, the shortest path between every pair of galaxies can be found. It can help to assign every galaxy a unique number:\n",
    "\n",
    "```\n",
    "....1........\n",
    ".........2...\n",
    "3............\n",
    ".............\n",
    ".............\n",
    "........4....\n",
    ".5...........\n",
    "............6\n",
    ".............\n",
    ".............\n",
    ".........7...\n",
    "8....9.......\n",
    "```\n",
    "\n",
    "In these 9 galaxies, there are _36 pairs_. Only count each pair once; order within the pair doesn't matter. For each pair, find any shortest path between the two galaxies using only steps that move up, down, left, or right exactly one `.` or `#` at a time. (The shortest path between two galaxies is allowed to pass through another galaxy.)\n",
    "\n",
    "For example, here is one of the shortest paths between galaxies `5` and `9`:\n",
    "\n",
    "```\n",
    "....1........\n",
    ".........2...\n",
    "3............\n",
    ".............\n",
    ".............\n",
    "........4....\n",
    ".5...........\n",
    ".##.........6\n",
    "..##.........\n",
    "...##........\n",
    "....##...7...\n",
    "8....9.......\n",
    "```\n",
    "\n",
    "This path has length `_9_` because it takes a minimum of _nine steps_ to get from galaxy `5` to galaxy `9` (the eight locations marked `#` plus the step onto galaxy `9` itself). Here are some other example shortest path lengths:\n",
    "\n",
    "- Between galaxy `1` and galaxy `7`: 15\n",
    "- Between galaxy `3` and galaxy `6`: 17\n",
    "- Between galaxy `8` and galaxy `9`: 5\n",
    "\n",
    "In this example, after expanding the universe, the sum of the shortest path between all 36 pairs of galaxies is `_374_`.\n",
    "\n",
    "Expand the universe, then find the length of the shortest path between every pair of galaxies. _What is the sum of these lengths?_"
   ]
  },
  {
   "cell_type": "code",
   "execution_count": 3,
   "metadata": {
    "dotnet_interactive": {
     "language": "pwsh"
    },
    "polyglot_notebook": {
     "kernelName": "pwsh"
    }
   },
   "outputs": [],
   "source": [
    "$sample_data = @'\n",
    "...#......\n",
    ".......#..\n",
    "#.........\n",
    "..........\n",
    "......#...\n",
    ".#........\n",
    ".........#\n",
    "..........\n",
    ".......#..\n",
    "#...#.....\n",
    "'@ -split \"`n\" #NB: Polyglot seems to be OK with this, but in plain PoSH, it caused me pain as it had CRLF (\"`r`n\") line endings. FYI.\n",
    "\n",
    "$input_data = Get-Content .\\data.txt"
   ]
  },
  {
   "cell_type": "code",
   "execution_count": null,
   "metadata": {
    "dotnet_interactive": {
     "language": "pwsh"
    },
    "polyglot_notebook": {
     "kernelName": "pwsh"
    }
   },
   "outputs": [],
   "source": [
    "function dostuff {\n",
    "    [CmdletBinding()] Param(\n",
    "        [Parameter(Mandatory=$false)]\n",
    "        [switch] $sample,\n",
    "        [Parameter(Mandatory=$false)]\n",
    "        [switch] $part2\n",
    "    )\n",
    "\n",
    "    if($sample) {\n",
    "        $data = $sample_data\n",
    "    } else {\n",
    "        $data = $input_data\n",
    "    }\n",
    "\n",
    "    # locate / count galaxies\n",
    "    $galaxies = [System.Collections.ArrayList]::new()\n",
    "    for($y=0;$y -lt $data.count; $y++) {\n",
    "        $results = [regex]::matches($data[$y], \"\\#\")\n",
    "        if($results.success) {\n",
    "            foreach($result in $results.groups[1..($results.groups.count-1)]) {\n",
    "                $galaxies.Add([pscustomobject]@{\n",
    "                    y = $y\n",
    "                    x = $result.Index\n",
    "                })\n",
    "            }\n",
    "        }\n",
    "    }\n",
    "\n",
    "    # Determine expanding space\n",
    "\n",
    "    # taxicab distances, inserting expanding space where appropriate\n",
    "}\n",
    "\n",
    "dostuff -sample -Debug"
   ]
  },
  {
   "cell_type": "code",
   "execution_count": 4,
   "metadata": {
    "dotnet_interactive": {
     "language": "pwsh"
    },
    "polyglot_notebook": {
     "kernelName": "pwsh"
    }
   },
   "outputs": [
    {
     "name": "stdout",
     "output_type": "stream",
     "text": [
      "\n",
      "\u001b[32;1mGroups    : \u001b[0m{0}\n",
      "\u001b[32;1mSuccess   : \u001b[0mTrue\n",
      "\u001b[32;1mName      : \u001b[0m0\n",
      "\u001b[32;1mCaptures  : \u001b[0m{0}\n",
      "\u001b[32;1mIndex     : \u001b[0m0\n",
      "\u001b[32;1mLength    : \u001b[0m1\n",
      "\u001b[32;1mValue     : \u001b[0m#\n",
      "\u001b[32;1mValueSpan : \u001b[0m\n",
      "\n",
      "\u001b[32;1mGroups    : \u001b[0m{0}\n",
      "\u001b[32;1mSuccess   : \u001b[0mTrue\n",
      "\u001b[32;1mName      : \u001b[0m0\n",
      "\u001b[32;1mCaptures  : \u001b[0m{0}\n",
      "\u001b[32;1mIndex     : \u001b[0m4\n",
      "\u001b[32;1mLength    : \u001b[0m1\n",
      "\u001b[32;1mValue     : \u001b[0m#\n",
      "\u001b[32;1mValueSpan : \u001b[0m\n",
      "\n"
     ]
    }
   ],
   "source": [
    "[regex]::matches(\"#...#.....\", \"\\#\")"
   ]
  }
 ],
 "metadata": {
  "kernelspec": {
   "display_name": ".NET (PowerShell)",
   "language": "PowerShell",
   "name": ".net-pwsh"
  },
  "language_info": {
   "name": "polyglot-notebook"
  },
  "polyglot_notebook": {
   "kernelInfo": {
    "defaultKernelName": "pwsh",
    "items": [
     {
      "aliases": [],
      "languageName": "pwsh",
      "name": "pwsh"
     }
    ]
   }
  }
 },
 "nbformat": 4,
 "nbformat_minor": 2
}
