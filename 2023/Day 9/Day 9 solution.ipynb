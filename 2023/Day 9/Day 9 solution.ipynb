{
 "cells": [
  {
   "cell_type": "markdown",
   "metadata": {},
   "source": [
    "# Day 9: Mirage Maintenance\n",
    "\n",
    "You ride the camel through the sandstorm and stop where the ghost's maps told you to stop. The sandstorm subsequently subsides, somehow seeing you standing at an _oasis_!\n",
    "\n",
    "The camel goes to get some water and you stretch your neck. As you look up, you discover what must be yet another giant floating island, this one made of metal! That must be where the _parts to fix the sand machines_ come from.\n",
    "\n",
    "There's even a [hang glider](https://en.wikipedia.org/wiki/Hang_gliding) partially buried in the sand here; once the sun rises and heats up the sand, you might be able to use the glider and the hot air to get all the way up to the metal island!\n",
    "\n",
    "While you wait for the sun to rise, you admire the oasis hidden here in the middle of Desert Island. It must have a delicate ecosystem; you might as well take some ecological readings while you wait. Maybe you can report any environmental instabilities you find to someone so the oasis can be around for the next sandstorm-worn traveler.\n",
    "\n",
    "You pull out your handy _Oasis And Sand Instability Sensor_ and analyze your surroundings. The OASIS produces a report of many values and how they are changing over time (your puzzle input). Each line in the report contains the _history_ of a single value. For example:\n",
    "\n",
    "```\n",
    "0 3 6 9 12 15\n",
    "1 3 6 10 15 21\n",
    "10 13 16 21 30 45\n",
    "```\n",
    "\n",
    "To best protect the oasis, your environmental report should include a _prediction of the next value_ in each history. To do this, start by making a new sequence from the _difference at each step_ of your history. If that sequence is _not_ all zeroes, repeat this process, using the sequence you just generated as the input sequence. Once all of the values in your latest sequence are zeroes, you can extrapolate what the next value of the original history should be.\n",
    "\n",
    "In the above dataset, the first history is `0 3 6 9 12 15`. Because the values increase by `3` each step, the first sequence of differences that you generate will be `3 3 3 3 3`. Note that this sequence has one fewer value than the input sequence because at each step it considers two numbers from the input. Since these values aren't _all zero_, repeat the process: the values differ by `0` at each step, so the next sequence is `0 0 0 0`. This means you have enough information to extrapolate the history! Visually, these sequences can be arranged like this:\n",
    "\n",
    "```\n",
    "0   3   6   9  12  15\n",
    "  3   3   3   3   3\n",
    "    0   0   0   0\n",
    "```\n",
    "\n",
    "To extrapolate, start by adding a new zero to the end of your list of zeroes; because the zeroes represent differences between the two values above them, this also means there is now a placeholder in every sequence above it:\n",
    "\n",
    "```\n",
    "0   3   6   9  12  15   B\n",
    "  3   3   3   3   3   A\n",
    "    0   0   0   0   0\n",
    "```\n",
    "\n",
    "You can then start filling in placeholders from the bottom up. `A` needs to be the result of increasing `3` (the value to its left) by `0` (the value below it); this means `A` must be `_3_`:\n",
    "\n",
    "```\n",
    "0   3   6   9  12  15   B\n",
    "  3   3   3   3   3   3\n",
    "    0   0   0   0   0\n",
    "```\n",
    "\n",
    "Finally, you can fill in `B`, which needs to be the result of increasing `15` (the value to its left) by `3` (the value below it), or `_18_`:\n",
    "\n",
    "```\n",
    "0   3   6   9  12  15  18\n",
    "  3   3   3   3   3   3\n",
    "    0   0   0   0   0\n",
    "```\n",
    "\n",
    "So, the next value of the first history is `_18_`.\n",
    "\n",
    "Finding all-zero differences for the second history requires an additional sequence:\n",
    "\n",
    "```\n",
    "1   3   6  10  15  21\n",
    "  2   3   4   5   6\n",
    "    1   1   1   1\n",
    "      0   0   0\n",
    "```\n",
    "\n",
    "Then, following the same process as before, work out the next value in each sequence from the bottom up:\n",
    "\n",
    "```\n",
    "1   3   6  10  15  21  28\n",
    "  2   3   4   5   6   7\n",
    "    1   1   1   1   1\n",
    "      0   0   0   0\n",
    "```\n",
    "\n",
    "So, the next value of the second history is `_28_`.\n",
    "\n",
    "The third history requires even more sequences, but its next value can be found the same way:\n",
    "\n",
    "```\n",
    "10  13  16  21  30  45  68\n",
    "   3   3   5   9  15  23\n",
    "     0   2   4   6   8\n",
    "       2   2   2   2\n",
    "         0   0   0\n",
    "```\n",
    "\n",
    "So, the next value of the third history is `_68_`.\n",
    "\n",
    "If you find the next value for each history in this example and add them together, you get `_114_`.\n",
    "\n",
    "Analyze your OASIS report and extrapolate the next value for each history. _What is the sum of these extrapolated values?_"
   ]
  },
  {
   "cell_type": "code",
   "execution_count": null,
   "metadata": {
    "dotnet_interactive": {
     "language": "pwsh"
    },
    "polyglot_notebook": {
     "kernelName": "pwsh"
    }
   },
   "outputs": [],
   "source": [
    "$sample_data = @'\n",
    "\n",
    "'@ -split \"`n\" #NB: Polyglot seems to be OK with this, but in plain PoSH, it caused me pain as it had CRLF (\"`r`n\") line endings. FYI.\n",
    "\n",
    "$input_data = Get-Content .\\data.txt"
   ]
  },
  {
   "cell_type": "code",
   "execution_count": null,
   "metadata": {
    "dotnet_interactive": {
     "language": "pwsh"
    },
    "polyglot_notebook": {
     "kernelName": "pwsh"
    }
   },
   "outputs": [],
   "source": [
    "function dostuff {\n",
    "    [CmdletBinding()] Param(\n",
    "        [Parameter(Mandatory=$false)]\n",
    "        [switch] $sample,\n",
    "        [Parameter(Mandatory=$false)]\n",
    "        [switch] $part2\n",
    "    )\n",
    "\n",
    "    if($sample) {\n",
    "        $data = $sample_data\n",
    "    } else {\n",
    "        $data = $input_data\n",
    "    }\n",
    "\n",
    "\n",
    "}\n",
    "\n",
    "dostuff -sample -Debug"
   ]
  },
  {
   "cell_type": "code",
   "execution_count": 3,
   "metadata": {
    "dotnet_interactive": {
     "language": "pwsh"
    },
    "polyglot_notebook": {
     "kernelName": "pwsh"
    }
   },
   "outputs": [
    {
     "name": "stdout",
     "output_type": "stream",
     "text": [
      "\u001b[31;1mInvalidOperation: \u001b[0m\n",
      "\u001b[31;1m\u001b[36;1mLine |\u001b[0m\n",
      "\u001b[31;1m\u001b[36;1m\u001b[36;1m  24 | \u001b[0m \u001b[36;1m$coefficients = [math]::Matrix::Solve($matrix, $vector)\u001b[0m\n",
      "\u001b[31;1m\u001b[36;1m\u001b[36;1m\u001b[0m\u001b[36;1m\u001b[0m\u001b[36;1m     | \u001b[31;1m ~~~~~~~~~~~~~~~~~~~~~~~~~~~~~~~~~~~~~~~~~~~~~~~~~~~~~~~\u001b[0m\n",
      "\u001b[31;1m\u001b[36;1m\u001b[36;1m\u001b[0m\u001b[36;1m\u001b[0m\u001b[36;1m\u001b[31;1m\u001b[31;1m\u001b[36;1m     | \u001b[31;1mYou cannot call a method on a null-valued expression.\u001b[0m\n",
      "\u001b[31;1mInvalidOperation: \u001b[0m\n",
      "\u001b[31;1m\u001b[36;1mLine |\u001b[0m\n",
      "\u001b[31;1m\u001b[36;1m\u001b[36;1m  27 | \u001b[0m \u001b[36;1m$a = $coefficients[0]\u001b[0m\n",
      "\u001b[31;1m\u001b[36;1m\u001b[36;1m\u001b[0m\u001b[36;1m\u001b[0m\u001b[36;1m     | \u001b[31;1m ~~~~~~~~~~~~~~~~~~~~~\u001b[0m\n",
      "\u001b[31;1m\u001b[36;1m\u001b[36;1m\u001b[0m\u001b[36;1m\u001b[0m\u001b[36;1m\u001b[31;1m\u001b[31;1m\u001b[36;1m     | \u001b[31;1mCannot index into a null array.\u001b[0m\n",
      "\u001b[31;1mInvalidOperation: \u001b[0m\n",
      "\u001b[31;1m\u001b[36;1mLine |\u001b[0m\n",
      "\u001b[31;1m\u001b[36;1m\u001b[36;1m  28 | \u001b[0m \u001b[36;1m$b = $coefficients[1]\u001b[0m\n",
      "\u001b[31;1m\u001b[36;1m\u001b[36;1m\u001b[0m\u001b[36;1m\u001b[0m\u001b[36;1m     | \u001b[31;1m ~~~~~~~~~~~~~~~~~~~~~\u001b[0m\n",
      "\u001b[31;1m\u001b[36;1m\u001b[36;1m\u001b[0m\u001b[36;1m\u001b[0m\u001b[36;1m\u001b[31;1m\u001b[31;1m\u001b[36;1m     | \u001b[31;1mCannot index into a null array.\u001b[0m\n",
      "\u001b[31;1mInvalidOperation: \u001b[0m\n",
      "\u001b[31;1m\u001b[36;1mLine |\u001b[0m\n",
      "\u001b[31;1m\u001b[36;1m\u001b[36;1m  29 | \u001b[0m \u001b[36;1m$c = $coefficients[2]\u001b[0m\n",
      "\u001b[31;1m\u001b[36;1m\u001b[36;1m\u001b[0m\u001b[36;1m\u001b[0m\u001b[36;1m     | \u001b[31;1m ~~~~~~~~~~~~~~~~~~~~~\u001b[0m\n",
      "\u001b[31;1m\u001b[36;1m\u001b[36;1m\u001b[0m\u001b[36;1m\u001b[0m\u001b[36;1m\u001b[31;1m\u001b[31;1m\u001b[36;1m     | \u001b[31;1mCannot index into a null array.\u001b[0m\n",
      "The quadratic equation is: y = *x^2 + *x + \n"
     ]
    },
    {
     "ename": "Error",
     "evalue": "Command failed: SubmitCode: # Define the series of numbers ...",
     "output_type": "error",
     "traceback": [
      "Command failed: SubmitCode: # Define the series of numbers ..."
     ]
    }
   ],
   "source": [
    "# Define the series of numbers\n",
    "$numbers = @(10, 13, 16, 21, 30, 45)\n",
    "\n",
    "# Define the number of data points\n",
    "$n = $numbers.Count\n",
    "\n",
    "# Create an empty matrix to store the coefficients\n",
    "$matrix = New-Object 'double[,]' $n, $n\n",
    "\n",
    "# Populate the matrix with the powers of x\n",
    "for ($i = 0; $i -lt $n; $i++) {\n",
    "    for ($j = 0; $j -lt $n; $j++) {\n",
    "        $matrix[$i, $j] = [math]::Pow($i + 1, $j)\n",
    "    }\n",
    "}\n",
    "\n",
    "# Create a vector for the dependent variable (y-values)\n",
    "#$vector = [math]::Pow($numbers, 1)\n",
    "\n",
    "$vector = $numbers\n",
    "\n",
    "\n",
    "# Solve the system of equations\n",
    "$coefficients = [math]::Matrix::Solve($matrix, $vector)\n",
    "\n",
    "# Extract the coefficients\n",
    "$a = $coefficients[0]\n",
    "$b = $coefficients[1]\n",
    "$c = $coefficients[2]\n",
    "\n",
    "# Print the quadratic equation\n",
    "Write-Host \"The quadratic equation is: y = $a*x^2 + $b*x + $c\""
   ]
  },
  {
   "cell_type": "code",
   "execution_count": 4,
   "metadata": {
    "dotnet_interactive": {
     "language": "pwsh"
    },
    "polyglot_notebook": {
     "kernelName": "pwsh"
    }
   },
   "outputs": [
    {
     "name": "stdout",
     "output_type": "stream",
     "text": [
      "1\n",
      "1\n",
      "1\n",
      "1\n",
      "1\n",
      "1\n",
      "1\n",
      "2\n",
      "4\n",
      "8\n",
      "16\n",
      "32\n",
      "1\n",
      "3\n",
      "9\n",
      "27\n",
      "81\n",
      "243\n",
      "1\n",
      "4\n",
      "16\n",
      "64\n",
      "256\n",
      "1024\n",
      "1\n",
      "5\n",
      "25\n",
      "125\n",
      "625\n",
      "3125\n",
      "1\n",
      "6\n",
      "36\n",
      "216\n",
      "1296\n",
      "7776\n"
     ]
    }
   ],
   "source": [
    "$matrix"
   ]
  }
 ],
 "metadata": {
  "kernelspec": {
   "display_name": ".NET (PowerShell)",
   "language": "PowerShell",
   "name": ".net-pwsh"
  },
  "language_info": {
   "name": "polyglot-notebook"
  },
  "polyglot_notebook": {
   "kernelInfo": {
    "defaultKernelName": "pwsh",
    "items": [
     {
      "aliases": [],
      "languageName": "pwsh",
      "name": "pwsh"
     }
    ]
   }
  }
 },
 "nbformat": 4,
 "nbformat_minor": 2
}
