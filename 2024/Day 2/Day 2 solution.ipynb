{
 "cells": [
  {
   "cell_type": "markdown",
   "metadata": {},
   "source": [
    "# Day 2: Red-Nosed Reports\n",
    "\n",
    "Fortunately, the first location The Historians want to search isn't a long walk from the Chief Historian's office.\n",
    "\n",
    "While the [Red-Nosed Reindeer nuclear fusion/fission plant](https://adventofcode.com/2015/day/19) appears to contain no sign of the Chief Historian, the engineers there run up to you as soon as they see you. Apparently, they _still_ talk about the time Rudolph was saved through molecular synthesis from a single electron.\n",
    "\n",
    "They're quick to add that - since you're already here - they'd really appreciate your help analyzing some unusual data from the Red-Nosed reactor. You turn to check if The Historians are waiting for you, but they seem to have already divided into groups that are currently searching every corner of the facility. You offer to help with the unusual data.\n",
    "\n",
    "The unusual data (your puzzle input) consists of many _reports_, one report per line. Each report is a list of numbers called _levels_ that are separated by spaces. For example:\n",
    "\n",
    "```\n",
    "7 6 4 2 1\n",
    "1 2 7 8 9\n",
    "9 7 6 2 1\n",
    "1 3 2 4 5\n",
    "8 6 4 4 1\n",
    "1 3 6 7 9\n",
    "```\n",
    "\n",
    "This example data contains six reports each containing five levels.\n",
    "\n",
    "The engineers are trying to figure out which reports are _safe_. The Red-Nosed reactor safety systems can only tolerate levels that are either gradually increasing or gradually decreasing. So, a report only counts as safe if both of the following are true:\n",
    "\n",
    "- The levels are either _all increasing_ or _all decreasing_.\n",
    "- Any two adjacent levels differ by _at least one_ and _at most three_.\n",
    "\n",
    "In the example above, the reports can be found safe or unsafe by checking those rules:\n",
    "\n",
    "- `7 6 4 2 1`: _Safe_ because the levels are all decreasing by 1 or 2.\n",
    "- `1 2 7 8 9`: _Unsafe_ because `2 7` is an increase of 5.\n",
    "- `9 7 6 2 1`: _Unsafe_ because `6 2` is a decrease of 4.\n",
    "- `1 3 2 4 5`: _Unsafe_ because `1 3` is increasing but `3 2` is decreasing.\n",
    "- `8 6 4 4 1`: _Unsafe_ because `4 4` is neither an increase or a decrease.\n",
    "- `1 3 6 7 9`: _Safe_ because the levels are all increasing by 1, 2, or 3.\n",
    "\n",
    "So, in this example, `_2_` reports are _safe_.\n",
    "\n",
    "Analyze the unusual data from the engineers. _How many reports are safe?_"
   ]
  },
  {
   "cell_type": "code",
   "execution_count": 1,
   "metadata": {
    "dotnet_interactive": {
     "language": "pwsh"
    },
    "polyglot_notebook": {
     "kernelName": "pwsh"
    }
   },
   "outputs": [],
   "source": [
    "$sample_data = @'\n",
    "7 6 4 2 1\n",
    "1 2 7 8 9\n",
    "9 7 6 2 1\n",
    "1 3 2 4 5\n",
    "8 6 4 4 1\n",
    "1 3 6 7 9\n",
    "'@ -split \"`r`n\"\n",
    "\n",
    "$input_data = Get-Content .\\data.txt"
   ]
  },
  {
   "cell_type": "code",
   "execution_count": 2,
   "metadata": {
    "dotnet_interactive": {
     "language": "pwsh"
    },
    "polyglot_notebook": {
     "kernelName": "pwsh"
    }
   },
   "outputs": [
    {
     "name": "stdout",
     "output_type": "stream",
     "text": [
      "\u001b[93mDEBUG: Line 7 6 4 2 1 is safe!\u001b[0m\n",
      "\u001b[93mDEBUG: Line 1 2 7 8 9 is safe!\u001b[0m\n",
      "\u001b[93mDEBUG: Line 9 7 6 2 1 is safe!\u001b[0m\n",
      "\u001b[93mDEBUG: Line 1 3 2 4 5 is unsafe because it's increasing, but 3 > 2\u001b[0m\n",
      "\u001b[93mDEBUG: Line 1 3 2 4 5 is safe!\u001b[0m\n",
      "\u001b[93mDEBUG: Line 8 6 4 4 1 is unsafe because has equal reports.\u001b[0m\n",
      "\u001b[93mDEBUG: Line 8 6 4 4 1 is safe!\u001b[0m\n",
      "\u001b[93mDEBUG: Line 1 3 6 7 9 is safe!\u001b[0m\n",
      "Total safe reports: 6\n"
     ]
    }
   ],
   "source": [
    "function dostuff {\n",
    "    [CmdletBinding()] Param(\n",
    "        [Parameter(Mandatory=$false)]\n",
    "        [switch] $sample,\n",
    "        [Parameter(Mandatory=$false)]\n",
    "        [switch] $part2\n",
    "    )\n",
    "\n",
    "    if($sample) {\n",
    "        $data = $sample_data\n",
    "    } else {\n",
    "        $data = $input_data\n",
    "    }\n",
    "\n",
    "    $totalSafeReports = 0\n",
    "\n",
    "    foreach($line in $data) {\n",
    "        $reports = $line -split ' '\n",
    "        $increasing = $false\n",
    "        if($reports[0] -lt $reports[1]) {\n",
    "            $increasing = $true\n",
    "        } elseif($reports[0] -eq $reports[1]) {\n",
    "            Write-Debug \"Reports have an equal value at the start!\"\n",
    "            continue\n",
    "        }\n",
    "        for($i=2; $i -lt $reports.Count; $i++) {\n",
    "            if($reports[$i-1] -eq $reports[$i]) {\n",
    "                Write-Debug \"Line $line is unsafe because has equal reports.\"\n",
    "                continue\n",
    "            }\n",
    "            if($increasing) {\n",
    "                if($reports[$i-1] -gt $reports[$i]) {\n",
    "                    Write-Debug \"Line $line is unsafe because it's increasing, but $($reports[$i-1]) > $($reports[$i])\"\n",
    "                    continue\n",
    "                }\n",
    "            } else {\n",
    "                if($reports[$i-1] -lt $reports[$i]) {\n",
    "                    Write-Debug \"Line $line is unsafe because it's decreasing, but $($reports[$i-1]) < $($reports[$i])\"\n",
    "                    continue\n",
    "                }\n",
    "\n",
    "            }\n",
    "        }\n",
    "        Write-Debug \"Line $line is safe!\"\n",
    "        $totalSafeReports++\n",
    "    }\n",
    "    Write-Output \"Total safe reports: $totalSafeReports\"\n",
    "\n",
    "}\n",
    "\n",
    "dostuff -sample -Debug"
   ]
  },
  {
   "cell_type": "code",
   "execution_count": 3,
   "metadata": {
    "dotnet_interactive": {
     "language": "pwsh"
    },
    "polyglot_notebook": {
     "kernelName": "pwsh"
    }
   },
   "outputs": [],
   "source": []
  }
 ],
 "metadata": {
  "kernelspec": {
   "display_name": ".NET (PowerShell)",
   "language": "PowerShell",
   "name": ".net-pwsh"
  },
  "language_info": {
   "name": "polyglot-notebook"
  },
  "polyglot_notebook": {
   "kernelInfo": {
    "defaultKernelName": "pwsh",
    "items": [
     {
      "aliases": [],
      "languageName": "pwsh",
      "name": "pwsh"
     }
    ]
   }
  }
 },
 "nbformat": 4,
 "nbformat_minor": 2
}
