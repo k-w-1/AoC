{
 "cells": [
  {
   "cell_type": "markdown",
   "metadata": {},
   "source": [
    "# Day 9: Disk Fragmenter\n",
    "\n",
    "Another push of the button leaves you in the familiar hallways of some friendly [amphipods](https://adventofcode.com/2021/day/23)! Good thing you each somehow got your own personal mini submarine. The Historians jet away in search of the Chief, mostly by driving directly into walls.\n",
    "\n",
    "While The Historians quickly figure out how to pilot these things, you notice an amphipod in the corner struggling with his computer. He's trying to make more contiguous free space by compacting all of the files, but his program isn't working; you offer to help.\n",
    "\n",
    "He shows you the _disk map_ (your puzzle input) he's already generated. For example:\n",
    "\n",
    "```\n",
    "2333133121414131402\n",
    "```\n",
    "\n",
    "The disk map uses a dense format to represent the layout of _files_ and _free space_ on the disk. The digits alternate between indicating the length of a file and the length of free space.\n",
    "\n",
    "So, a disk map like `12345` would represent a one-block file, two blocks of free space, a three-block file, four blocks of free space, and then a five-block file. A disk map like `90909` would represent three nine-block files in a row (with no free space between them).\n",
    "\n",
    "Each file on disk also has an _ID number_ based on the order of the files as they appear _before_ they are rearranged, starting with ID `0`. So, the disk map `12345` has three files: a one-block file with ID `0`, a three-block file with ID `1`, and a five-block file with ID `2`. Using one character for each block where digits are the file ID and `.` is free space, the disk map `12345` represents these individual blocks:\n",
    "\n",
    "```\n",
    "0..111....22222\n",
    "```\n",
    "\n",
    "The first example above, `2333133121414131402`, represents these individual blocks:\n",
    "\n",
    "```\n",
    "00...111...2...333.44.5555.6666.777.888899\n",
    "```\n",
    "\n",
    "The amphipod would like to _move file blocks one at a time_ from the end of the disk to the leftmost free space block (until there are no gaps remaining between file blocks). For the disk map `12345`, the process looks like this:\n",
    "\n",
    "```\n",
    "0..111....22222\n",
    "02.111....2222.\n",
    "022111....222..\n",
    "0221112...22...\n",
    "02211122..2....\n",
    "022111222......\n",
    "```\n",
    "\n",
    "The first example requires a few more steps:\n",
    "\n",
    "```\n",
    "00...111...2...333.44.5555.6666.777.888899\n",
    "009..111...2...333.44.5555.6666.777.88889.\n",
    "0099.111...2...333.44.5555.6666.777.8888..\n",
    "00998111...2...333.44.5555.6666.777.888...\n",
    "009981118..2...333.44.5555.6666.777.88....\n",
    "0099811188.2...333.44.5555.6666.777.8.....\n",
    "009981118882...333.44.5555.6666.777.......\n",
    "0099811188827..333.44.5555.6666.77........\n",
    "00998111888277.333.44.5555.6666.7.........\n",
    "009981118882777333.44.5555.6666...........\n",
    "009981118882777333644.5555.666............\n",
    "00998111888277733364465555.66.............\n",
    "0099811188827773336446555566..............\n",
    "```\n",
    "\n",
    "The final step of this file-compacting process is to update the _filesystem checksum_. To calculate the checksum, add up the result of multiplying each of these blocks' position with the file ID number it contains. The leftmost block is in position `0`. If a block contains free space, skip it instead.\n",
    "\n",
    "Continuing the first example, the first few blocks' position multiplied by its file ID number are `0 * 0 = 0`, `1 * 0 = 0`, `2 * 9 = 18`, `3 * 9 = 27`, `4 * 8 = 32`, and so on. In this example, the checksum is the sum of these, `_1928_`.\n",
    "\n",
    "Compact the amphipod's hard drive using the process he requested. _What is the resulting filesystem checksum?_ (Be careful copy/pasting the input for this puzzle; it is a single, very long line.)"
   ]
  },
  {
   "cell_type": "code",
   "execution_count": null,
   "metadata": {
    "dotnet_interactive": {
     "language": "pwsh"
    },
    "polyglot_notebook": {
     "kernelName": "pwsh"
    }
   },
   "outputs": [],
   "source": [
    "$sample_data = (@'\n",
    "2333133121414131402\n",
    "'@).Replace(\"`r\", '') -split \"`n\" \n",
    "\n",
    "$input_data = Get-Content .\\data.txt"
   ]
  },
  {
   "cell_type": "code",
   "execution_count": null,
   "metadata": {
    "dotnet_interactive": {
     "language": "pwsh"
    },
    "polyglot_notebook": {
     "kernelName": "pwsh"
    }
   },
   "outputs": [
    {
     "name": "stdout",
     "output_type": "stream",
     "text": [
      "Array size reqd: 42, using (u)int32, that'd be 0Mb\r\n"
     ]
    },
    {
     "data": {
      "text/plain": [
       "\u001b[30;43m                                                                                                    \n",
       " Defrag                                                                                             \n",
       "    Defragmenting                                                                                   \n",
       "    [oooooooooooooooooooooooooooooooooooooooooooooooooooooooooooo                            ]      \n",
       "                                                                                                    \u001b[0m"
      ]
     },
     "metadata": {},
     "output_type": "display_data"
    },
    {
     "name": "stdout",
     "output_type": "stream",
     "text": [
      "\u001b[93mDEBUG: disk: 00...111...2...333.44.5555.6666.777.888899\u001b[0m\n",
      "\u001b[93mDEBUG: Moving block at 41 part of file 9 to pos 2. disk: 00...111...2...333.44.5555.6666.777.888899\u001b[0m\n",
      "\u001b[93mDEBUG: Moving block at 40 part of file 9 to pos 3. disk: 009..111...2...333.44.5555.6666.777.88889.\u001b[0m\n",
      "\u001b[93mDEBUG: Moving block at 39 part of file 8 to pos 4. disk: 0099.111...2...333.44.5555.6666.777.8888..\u001b[0m\n",
      "\u001b[93mDEBUG: Moving block at 38 part of file 8 to pos 8. disk: 00998111...2...333.44.5555.6666.777.888...\u001b[0m\n",
      "\u001b[93mDEBUG: Moving block at 37 part of file 8 to pos 9. disk: 009981118..2...333.44.5555.6666.777.88....\u001b[0m\n",
      "\u001b[93mDEBUG: Moving block at 36 part of file 8 to pos 10. disk: 0099811188.2...333.44.5555.6666.777.8.....\u001b[0m\n",
      "\u001b[93mDEBUG: Moving block at 34 part of file 7 to pos 12. disk: 009981118882...333.44.5555.6666.777.......\u001b[0m\n",
      "\u001b[93mDEBUG: Moving block at 33 part of file 7 to pos 13. disk: 0099811188827..333.44.5555.6666.77........\u001b[0m\n",
      "\u001b[93mDEBUG: Moving block at 32 part of file 7 to pos 14. disk: 00998111888277.333.44.5555.6666.7.........\u001b[0m\n",
      "\u001b[93mDEBUG: Moving block at 30 part of file 6 to pos 18. disk: 009981118882777333.44.5555.6666...........\u001b[0m\n",
      "\u001b[93mDEBUG: Moving block at 29 part of file 6 to pos 21. disk: 009981118882777333644.5555.666............\u001b[0m\n",
      "\u001b[93mDEBUG: Moving block at 28 part of file 6 to pos 26. disk: 00998111888277733364465555.66.............\u001b[0m\n",
      "\u001b[93mDEBUG: Complete!\u001b[0m\n",
      "\u001b[93mDEBUG: disk: 0099811188827773336446555566..............\u001b[0m\n",
      "With *SAMPLE* dataset, part 1: disk checksum is 1928\n",
      "Array size reqd: 94551, using (u)int32, that'd be 2.9Mb\n"
     ]
    },
    {
     "ename": "Error",
     "evalue": "Command cancelled.",
     "output_type": "error",
     "traceback": [
      "Command cancelled."
     ]
    }
   ],
   "source": [
    "function dostuff {\n",
    "    [CmdletBinding()] Param(\n",
    "        [Parameter(Mandatory=$false)]\n",
    "        [switch] $sample,\n",
    "        [Parameter(Mandatory=$false)]\n",
    "        [switch] $part2\n",
    "    )\n",
    "    if($sample) {\n",
    "        $data = [string]$sample_data\n",
    "        $out = \"With *SAMPLE* dataset, part \"\n",
    "    } else {\n",
    "        $data = $input_data\n",
    "        $out = \"Part \"\n",
    "    }\n",
    "    $out += $part2 ? '2: ' : '1: '\n",
    "    \n",
    "    $spaceReqd = 0\n",
    "    for($x=0; $x -lt $data.Length; $x++){\n",
    "        $spaceReqd += [int](' ' + $data[$x])\n",
    "    }\n",
    "    Write-Output \"Array size reqd: $spaceReqd, using (u)int32, that'd be $([math]::round($spaceReqd*32/1Mb, 1))Mb\"\n",
    "    \n",
    "    $disk = [int[]]::new($spaceReqd); \n",
    "\n",
    "    $file = $true\n",
    "    $fileIndex = 0\n",
    "    $blockPointer = 0\n",
    "    Write-Progress -Activity \"Defrag\" -Status \"Building disk map\" -PercentComplete 0\n",
    "    for($x=0; $x -lt $data.Length; $x++) {\n",
    "        if($file) {\n",
    "            $value = $fileIndex\n",
    "            $fileIndex++\n",
    "            $file = $false\n",
    "        } else {\n",
    "            $value = -1\n",
    "            $file = $true\n",
    "        }\n",
    "        # the `' ' + ` is because otherwise PoSH thinks we're converting [char] (and not [string]) to [int]\n",
    "        if($data[$x] -ne '0') {\n",
    "            $upperBound = $blockPointer+(' ' + $data[$x])-1\n",
    "            Write-Verbose \"Reading pos $x, data $($data[$x]). Setting $blockPointer..$upperBound to $value\"\n",
    "            $blockPointer..$upperBound | ForEach-Object {$disk[$_] = $value}\n",
    "            $blockPointer = $upperBound + 1\n",
    "        }\n",
    "        if($x % 10 -eq 0) {\n",
    "            #Write-Progress -Activity \"Defrag\" -Status \"Building disk map\" -PercentComplete $x/$data.Length*10\n",
    "        }\n",
    "    }\n",
    "    Write-Debug \"disk: $(($disk -join '').Replace('-1','.'))\"\n",
    "\n",
    "    $freespacePointer = $disk.IndexOf(-1)\n",
    "    for($x=$disk.count-1; $x -gt 0; $x--) {\n",
    "        if($disk[$x] -eq -2) {\n",
    "            Write-Verbose \"Found moved block!\"\n",
    "            break\n",
    "        } elseif($disk[$x] -eq -1) {\n",
    "            Write-Verbose 'skipping moved block?'\n",
    "            continue\n",
    "        } else {\n",
    "            Write-Debug \"Moving block at $x part of file $($disk[$x]) to pos $freespacePointer. disk: $(($disk -join '').Replace('-1','.').Replace('-2','#'))\"\n",
    "            $disk[$freespacePointer] = $disk[$x]\n",
    "            $freespacePointer = $disk.IndexOf(-1)\n",
    "            $disk[$x] = -1 #mark file as moved.\n",
    "            if($freespacePointer -eq -1){\n",
    "                Write-Warning \"No more free space!\"\n",
    "                break\n",
    "            }\n",
    "            if($freespacePointer -gt $x) {\n",
    "                Write-Debug \"Complete!\"\n",
    "                break\n",
    "            }\n",
    "        }\n",
    "        \n",
    "        if($x % 10 -eq 0) {\n",
    "            $percent = (10 + ($x/$disk.count*60))\n",
    "            Write-Progress -Activity \"Defrag\" -Status \"Defragmenting ($percent%)\" -PercentComplete $percent\n",
    "        }\n",
    "    }\n",
    "\n",
    "    Write-Debug \"disk: $(($disk -join '').Replace('-1','.').Replace('-2','#'))\"\n",
    "\n",
    "    $positon = 0\n",
    "    $checksum = 0\n",
    "    foreach($number in $disk) {\n",
    "        if($number -lt 0) {\n",
    "            break\n",
    "        }\n",
    "        $checksum += $number * $positon\n",
    "        $positon++\n",
    "        if($positon % 10 -eq 0) {\n",
    "            $percent = (70 + ($x/$disk.count*30))\n",
    "            Write-Progress -Activity \"Defrag\" -Status \"Calculating checksum ($percent%)\" -PercentComplete $percent\n",
    "        }\n",
    "    }\n",
    "    $out += \"disk checksum is $checksum\"\n",
    "    Write-Output $out\n",
    "}\n",
    "\n",
    "dostuff -sample -Debug\n",
    "dostuff"
   ]
  }
 ],
 "metadata": {
  "kernelspec": {
   "display_name": ".NET (C#)",
   "language": "C#",
   "name": ".net-csharp"
  },
  "language_info": {
   "name": "polyglot-notebook"
  },
  "polyglot_notebook": {
   "kernelInfo": {
    "defaultKernelName": "csharp",
    "items": [
     {
      "aliases": [],
      "name": "csharp"
     },
     {
      "aliases": [],
      "languageName": "pwsh",
      "name": "pwsh"
     }
    ]
   }
  }
 },
 "nbformat": 4,
 "nbformat_minor": 2
}
