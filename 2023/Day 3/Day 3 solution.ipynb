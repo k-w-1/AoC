{
 "cells": [
  {
   "cell_type": "markdown",
   "metadata": {},
   "source": [
    "# Day 3: Gear Ratios\n",
    "## Part 1\n",
    "\n",
    "You and the Elf eventually reach a gondola lift station; he says the gondola lift will take you up to the *water source*, but this is as far as he can bring you. You go inside.\n",
    "\n",
    "It doesn't take long to find the gondolas, but there seems to be a problem: they're not moving.\n",
    "\n",
    "\"Aaah!\"\n",
    "\n",
    "You turn around to see a slightly-greasy Elf with a wrench and a look of surprise. \"Sorry, I wasn't expecting anyone! The gondola lift isn't working right now; it'll still be a while before I can fix it.\" You offer to help.\n",
    "\n",
    "The engineer explains that an engine part seems to be missing from the engine, but nobody can figure out which one. If you can *add up all the part numbers* in the engine schematic, it should be easy to work out which part is missing.\n",
    "\n",
    "The engine schematic (your puzzle input) consists of a visual representation of the engine. There are lots of numbers and symbols you don't really understand, but apparently *any number adjacent to a symbol*, even diagonally, is a \"part number\" and should be included in your sum. (Periods (.) do not count as a symbol.)\n",
    "\n",
    "Here is an example engine schematic:\n",
    "\n",
    "```\n",
    "467..114..\n",
    "...*......\n",
    "..35..633.\n",
    "......#...\n",
    "617*......\n",
    ".....+.58.\n",
    "..592.....\n",
    "......755.\n",
    "...$.*....\n",
    ".664.598..\n",
    "```\n",
    "\n",
    "In this schematic, two numbers are not part numbers because they are not adjacent to a symbol: 114 (top right) and 58 (middle right). Every other number is adjacent to a symbol and so is a part number; their sum is 4361.\n",
    "\n",
    "Of course, the actual engine schematic is much larger. What is the sum of all of the part numbers in the engine schematic?\n"
   ]
  },
  {
   "cell_type": "code",
   "execution_count": 87,
   "metadata": {
    "dotnet_interactive": {
     "language": "pwsh"
    },
    "polyglot_notebook": {
     "kernelName": "pwsh"
    }
   },
   "outputs": [],
   "source": [
    "$sample_data = @'\n",
    "467..114..\n",
    "...*......\n",
    "..35..633.\n",
    "......#...\n",
    "617*......\n",
    ".....+.58.\n",
    "..592.....\n",
    "......755.\n",
    "...$.*....\n",
    ".664.598..\n",
    "'@ -split \"`n\"\n",
    "\n",
    "$data = Get-Content .\\data.txt"
   ]
  },
  {
   "cell_type": "markdown",
   "metadata": {},
   "source": [
    "## Code\n",
    "I get the feeling that AoC wants us to learn Regex....\n",
    "\n",
    "But first, let's characterize the actual part symbols used in the full dataset:"
   ]
  },
  {
   "cell_type": "code",
   "execution_count": 47,
   "metadata": {
    "dotnet_interactive": {
     "language": "pwsh"
    },
    "polyglot_notebook": {
     "kernelName": "pwsh"
    }
   },
   "outputs": [
    {
     "name": "stdout",
     "output_type": "stream",
     "text": [
      "Found 10 uniques; they were @('-', '@', '*', '/', '&', '#', '%', '+', '=', '$')\r\n"
     ]
    }
   ],
   "source": [
    "\n",
    "\n",
    "$unique_chars = $data -join '' -replace '[0-9.]' -split '' | Where-Object { ![string]::IsNullOrWhiteSpace($_) } | Sort-Object -Unique\n",
    "Write-Output \"Found $($unique_chars.Count) uniques; they were @('$($unique_chars -join \"', '\")')\"\n"
   ]
  },
  {
   "cell_type": "code",
   "execution_count": 99,
   "metadata": {
    "dotnet_interactive": {
     "language": "pwsh"
    },
    "polyglot_notebook": {
     "kernelName": "pwsh"
    }
   },
   "outputs": [
    {
     "name": "stdout",
     "output_type": "stream",
     "text": [
      "\u001b[93mVERBOSE: Found 0 parts, at @() and 2 part numbers, at @(0, 5)\u001b[0m\n",
      "\u001b[93mVERBOSE: Found 1 parts, at @(3) and 0 part numbers, at @()\u001b[0m\n",
      "\u001b[93mVERBOSE: Checking all around numbers from the previous line, found 1 parts, at @(0) with values @(467)\u001b[0m\n",
      "\u001b[93mVERBOSE: Checking all around, found 0 parts, at @() with values @()\u001b[0m\n",
      "\u001b[93mVERBOSE: Found 0 parts, at @() and 2 part numbers, at @(2, 6)\u001b[0m\n",
      "\u001b[93mVERBOSE: Checking all around parts from the previous line, found 1 parts, at @(2) with values @(35)\u001b[0m\n",
      "\u001b[93mVERBOSE: Found 1 parts, at @(6) and 0 part numbers, at @()\u001b[0m\n",
      "\u001b[93mVERBOSE: Checking all around numbers from the previous line, found 1 parts, at @(6) with values @(633)\u001b[0m\n",
      "\u001b[93mVERBOSE: Checking all around, found 0 parts, at @() with values @()\u001b[0m\n",
      "\u001b[93mVERBOSE: Found 1 parts, at @(3) and 1 part numbers, at @(0)\u001b[0m\n",
      "\u001b[93mVERBOSE: Checking all around, found 1 parts, at @(0) with values @(617)\u001b[0m\n",
      "\u001b[93mVERBOSE: Checking all around parts from the previous line, found 0 parts, at @() with values @()\u001b[0m\n",
      "\u001b[93mVERBOSE: Found 1 parts, at @(5) and 1 part numbers, at @(7)\u001b[0m\n",
      "\u001b[93mVERBOSE: Checking all around numbers from the previous line, found 0 parts, at @() with values @()\u001b[0m\n",
      "\u001b[93mVERBOSE: Checking all around, found 0 parts, at @() with values @()\u001b[0m\n",
      "\u001b[93mVERBOSE: Checking all around parts from the previous line, found 0 parts, at @() with values @()\u001b[0m\n",
      "\u001b[93mVERBOSE: Found 0 parts, at @() and 1 part numbers, at @(2)\u001b[0m\n",
      "\u001b[93mVERBOSE: Checking all around parts from the previous line, found 1 parts, at @(2) with values @(592)\u001b[0m\n",
      "\u001b[93mVERBOSE: Found 0 parts, at @() and 1 part numbers, at @(6)\u001b[0m\n",
      "\u001b[93mVERBOSE: Found 2 parts, at @(3, 5) and 0 part numbers, at @()\u001b[0m\n",
      "\u001b[93mVERBOSE: Checking all around numbers from the previous line, found 1 parts, at @(6) with values @(755)\u001b[0m\n",
      "\u001b[93mVERBOSE: Checking all around, found 0 parts, at @() with values @()\u001b[0m\n",
      "\u001b[93mVERBOSE: Found 0 parts, at @() and 2 part numbers, at @(1, 5)\u001b[0m\n",
      "\u001b[93mVERBOSE: Checking all around parts from the previous line, found 2 parts, at @(1, 5) with values @(664, 598)\u001b[0m\n",
      "\u001b[93mDEBUG: Found a total of 8: @(467, 35, 633, 617, 592, 755, 664, 598)\u001b[0m\n",
      "4361\n"
     ]
    }
   ],
   "source": [
    "function dostuff {\n",
    "    Param(\n",
    "        [Parameter(Mandatory=$true, Position=0)]\n",
    "        $data,\n",
    "        [Parameter(Mandatory=$false, Position=1)]\n",
    "        [switch] $part2\n",
    "    )\n",
    "\n",
    "    $part_symbols = @('-', '@', '*', '/', '&', '#', '%', '+', '=', '$')\n",
    "    $pattern = \"\\\" + ($part_symbols -join '|\\')\n",
    "    $part_numbers = @()\n",
    "\n",
    "    $previous_parts = @() #conveniently matches nil for the first line where obvs there's no prior line\n",
    "    $previous_numbers = @()\n",
    "    foreach($line in $data) {\n",
    "\n",
    "        #Gather the parts & numbers on this line\n",
    "        $parts = [regex]::Matches($line, $pattern)\n",
    "        $numbers = [regex]::Matches($line, '\\d+')\n",
    "        Write-Verbose (\"Found $($parts.Count) parts, at @($($parts.Groups.index -join \", \")) and \" + \n",
    "                      \"$($numbers.Count) part numbers, at @($($numbers.Groups.index -join \", \"))\")\n",
    "        \n",
    "        #reset these to avoid adding 2x\n",
    "        $part_numbers_current = @()\n",
    "        $part_numbers_previous = @()\n",
    "        $part_numbers_next = @()\n",
    "\n",
    "        #check the previous line's numbers with this line's parts\n",
    "        if($parts.count -gt 0 -and $previous_numbers.Count -gt 0) {\n",
    "            $part_numbers_next = $previous_numbers.Groups | Where-Object {\n",
    "                    (Compare-Object $parts.Groups.Index (($_.index - 1)..($_.index + $_.length)) -ExcludeDifferent -IncludeEqual).Count -gt 0\n",
    "                    #                   |                   |                   |                       |-------------|---> only return matching numbers (positions)\n",
    "                    #                   |                   |                   |--> one pos right of the end (remember lenght is *not* 0 indexed)\n",
    "                    #                   |                   |--> One pos left of the start\n",
    "                    #                   |                 _____________________________________\n",
    "                    #                   |                               |---> all the integers from one left of the start to one right of the end\n",
    "                    #                   |--> array of all the indexes of part symbols\n",
    "                }\n",
    "            Write-Verbose \"Checking all around numbers from the previous line, found $($part_numbers_next.Count) parts, at @($($part_numbers_next.index -join \", \")) with values @($($part_numbers_next.Value -join \", \"))\"\n",
    "        }\n",
    "        #check this line\n",
    "        if($parts.count -gt 0) {\n",
    "            $part_numbers_current = $numbers.Groups | Where-Object {\n",
    "                    (Compare-Object $parts.Groups.Index (($_.index - 1)..($_.index + $_.length)) -ExcludeDifferent -IncludeEqual).Count -gt 0\n",
    "                    #                   |                   |                   |                       |-------------|---> only return matching numbers (positions)\n",
    "                    #                   |                   |                   |--> one pos right of the end (remember lenght is *not* 0 indexed)\n",
    "                    #                   |                   |--> One pos left of the start\n",
    "                    #                   |                 _____________________________________\n",
    "                    #                   |                               |---> all the integers from one left of the start to one right of the end\n",
    "                    #                   |--> array of all the indexes of part symbols\n",
    "                }\n",
    "            Write-Verbose \"Checking all around, found $($part_numbers_current.Count) parts, at @($($part_numbers_current.index -join \", \")) with values @($($part_numbers_current.Value -join \", \"))\"\n",
    "        }\n",
    "        #check the previous line's \n",
    "        if($previous_parts.Count -gt 0) {\n",
    "           $part_numbers_previous = $numbers.Groups | Where-Object {\n",
    "                    (Compare-Object $previous_parts.Groups.Index (($_.index - 1)..($_.index + $_.length)) -ExcludeDifferent -IncludeEqual).Count -gt 0\n",
    "                }\n",
    "            Write-Verbose \"Checking all around parts from the previous line, found $($part_numbers_previous.Count) parts, at @($($part_numbers_previous.index -join \", \")) with values @($($part_numbers_previous.Value -join \", \"))\"\n",
    "\n",
    "        }\n",
    "\n",
    "        $part_numbers += $part_numbers_current\n",
    "        $part_numbers += $part_numbers_previous\n",
    "        $part_numbers += $part_numbers_next\n",
    "\n",
    "        #Prep for next line\n",
    "        $previous_parts = $parts\n",
    "        $previous_numbers = $numbers\n",
    "    }\n",
    "    Write-Debug \"Found a total of $($part_numbers.Count): @($($part_numbers.value -join \", \"))\"\n",
    "\n",
    "    return ($part_numbers.Value | Measure-Object -Sum).Sum\n",
    "\n",
    "}\n"
   ]
  },
  {
   "cell_type": "code",
   "execution_count": null,
   "metadata": {
    "dotnet_interactive": {
     "language": "pwsh"
    },
    "polyglot_notebook": {
     "kernelName": "pwsh"
    }
   },
   "outputs": [],
   "source": [
    "$VerbosePreference = 'Continue'\n",
    "$DebugPreference = 'Continue'\n",
    "dostuff $sample_data"
   ]
  },
  {
   "cell_type": "code",
   "execution_count": 100,
   "metadata": {
    "dotnet_interactive": {
     "language": "pwsh"
    },
    "polyglot_notebook": {
     "kernelName": "pwsh"
    }
   },
   "outputs": [
    {
     "name": "stdout",
     "output_type": "stream",
     "text": [
      "Part 1 solution is 551094\r\n"
     ]
    }
   ],
   "source": [
    "$VerbosePreference = 'SilentlyContinue'\n",
    "$DebugPreference = 'SilentlyContinue'\n",
    "Write-Host \"Part 1 solution is $(dostuff $data)\""
   ]
  },
  {
   "cell_type": "markdown",
   "metadata": {},
   "source": [
    "## Part Two\n",
    "\n",
    "The engineer finds the missing part and installs it in the engine! As the engine springs to life, you jump in the closest gondola, finally ready to ascend to the water source.\n",
    "\n",
    "You don't seem to be going very fast, though. Maybe something is still wrong? Fortunately, the gondola has a phone labeled \"help\", so you pick it up and the engineer answers.\n",
    "\n",
    "Before you can explain the situation, she suggests that you look out the window. There stands the engineer, holding a phone in one hand and waving with the other. You're going so slowly that you haven't even left the station. You exit the gondola.\n",
    "\n",
    "The missing part wasn't the only issue - one of the gears in the engine is wrong. A gear is any * symbol that is adjacent to exactly two part numbers. Its gear ratio is the result of multiplying those two numbers together.\n",
    "\n",
    "This time, you need to find the gear ratio of every gear and add them all up so that the engineer can figure out which gear needs to be replaced.\n",
    "\n",
    "Consider the same engine schematic again:\n",
    "\n",
    "```\n",
    "467..114..\n",
    "...*......\n",
    "..35..633.\n",
    "......#...\n",
    "617*......\n",
    ".....+.58.\n",
    "..592.....\n",
    "......755.\n",
    "...$.*....\n",
    ".664.598..\n",
    "```\n",
    "\n",
    "In this schematic, there are two gears. The first is in the top left; it has part numbers 467 and 35, so its gear ratio is 16345. The second gear is in the lower right; its gear ratio is 451490. (The * adjacent to 617 is not a gear because it is only adjacent to one part number.) Adding up all of the gear ratios produces 467835.\n",
    "\n",
    "What is the sum of all of the gear ratios in your engine schematic?\n",
    "\n",
    "## Part 2 code\n",
    "Decided to just do this one separately since I have to refactor the code so heavily..."
   ]
  },
  {
   "cell_type": "code",
   "execution_count": 122,
   "metadata": {
    "dotnet_interactive": {
     "language": "pwsh"
    },
    "polyglot_notebook": {
     "kernelName": "pwsh"
    }
   },
   "outputs": [],
   "source": [
    "function dostuff2 {\n",
    "    Param(\n",
    "        [Parameter(Mandatory=$true, Position=0)]\n",
    "        $data\n",
    "    )\n",
    "\n",
    "    $total = 0\n",
    "\n",
    "    $rows_of_ratios = [System.Collections.ArrayList]@()\n",
    "    foreach($line in $data){\n",
    "        $numbers = [regex]::Matches($line, '\\d+')\n",
    "        Write-Verbose (\"Found $($numbers.Count) gear ratios(s), at @($($numbers.Groups.index -join \", \"))\")\n",
    "        $rows_of_ratios.add($numbers) | Out-Null # is noisy otherwise\n",
    "    }\n",
    "    Write-Verbose \"There are $($rows_of_ratios.Count) rows of ratios.\"\n",
    "    $line_num = 0\n",
    "    foreach($line in $data) {\n",
    "\n",
    "        #Find all the gears\n",
    "        $gears = [regex]::Matches($line, \"\\*\")\n",
    "        Write-Verbose (\"Found $($gears.Count) gear(s), at @($($gears.Groups.index -join \", \"))\")\n",
    "        \n",
    "        $from = $line_num - 1\n",
    "        $to   = $line_num + 1\n",
    "        # Cover the literal edge cases\n",
    "        if($line_num -eq 0) {\n",
    "            $from = 0\n",
    "        } elseif($line_num -eq $data.Count-1) {\n",
    "            $to = $line_num \n",
    "        } \n",
    "\n",
    "        foreach($gear in $gears) {\n",
    "            $ratios_of_this_gear = $rows_of_ratios[$from..$to].Groups | Where-Object {\n",
    "                    (Compare-Object $gear.Index (($_.index - 1)..($_.index + $_.length)) -ExcludeDifferent -IncludeEqual).Count -gt 0\n",
    "\n",
    "                }\n",
    "            Write-Verbose \"Checking all around, found $($ratios_of_this_gear.Count) ratios, at @($($ratios_of_this_gear.index -join \", \")) with values @($($ratios_of_this_gear.Value -join \", \"))\"\n",
    "\n",
    "            if($ratios_of_this_gear.Count -eq 2) {\n",
    "                $ratio = [int]$ratios_of_this_gear[0].value * [int]$ratios_of_this_gear[1].value\n",
    "                $total += $ratio\n",
    "                Write-Debug \"Valid gear! $($ratios_of_this_gear[0].value) × $($ratios_of_this_gear[1].value) = $ratio; running total is $total\"\n",
    "            }\n",
    "        }\n",
    "\n",
    "        $line_num++\n",
    "    }\n",
    "    #Write-Debug \"Found a total of $($part_numbers.Count): @($($part_numbers.value -join \", \"))\"\n",
    "\n",
    "    return $total\n",
    "\n",
    "}"
   ]
  },
  {
   "cell_type": "code",
   "execution_count": 123,
   "metadata": {
    "dotnet_interactive": {
     "language": "pwsh"
    },
    "polyglot_notebook": {
     "kernelName": "pwsh"
    }
   },
   "outputs": [
    {
     "name": "stdout",
     "output_type": "stream",
     "text": [
      "\u001b[93mVERBOSE: Found 2 gear ratios(s), at @(0, 5)\u001b[0m\n",
      "\u001b[93mVERBOSE: Found 0 gear ratios(s), at @()\u001b[0m\n",
      "\u001b[93mVERBOSE: Found 2 gear ratios(s), at @(2, 6)\u001b[0m\n",
      "\u001b[93mVERBOSE: Found 0 gear ratios(s), at @()\u001b[0m\n",
      "\u001b[93mVERBOSE: Found 1 gear ratios(s), at @(0)\u001b[0m\n",
      "\u001b[93mVERBOSE: Found 1 gear ratios(s), at @(7)\u001b[0m\n",
      "\u001b[93mVERBOSE: Found 1 gear ratios(s), at @(2)\u001b[0m\n",
      "\u001b[93mVERBOSE: Found 1 gear ratios(s), at @(6)\u001b[0m\n",
      "\u001b[93mVERBOSE: Found 0 gear ratios(s), at @()\u001b[0m\n",
      "\u001b[93mVERBOSE: Found 2 gear ratios(s), at @(1, 5)\u001b[0m\n",
      "\u001b[93mVERBOSE: There are 10 rows of ratios.\u001b[0m\n",
      "\u001b[93mVERBOSE: Found 0 gear(s), at @()\u001b[0m\n",
      "\u001b[93mVERBOSE: Found 1 gear(s), at @(3)\u001b[0m\n",
      "\u001b[93mVERBOSE: Checking all around, found 2 ratios, at @(0, 2) with values @(467, 35)\u001b[0m\n",
      "\u001b[93mDEBUG: Valid gear! 467 × 35 = 16345; running total is 16345\u001b[0m\n",
      "\u001b[93mVERBOSE: Found 0 gear(s), at @()\u001b[0m\n",
      "\u001b[93mVERBOSE: Found 0 gear(s), at @()\u001b[0m\n",
      "\u001b[93mVERBOSE: Found 1 gear(s), at @(3)\u001b[0m\n",
      "\u001b[93mVERBOSE: Checking all around, found 1 ratios, at @(0) with values @(617)\u001b[0m\n",
      "\u001b[93mVERBOSE: Found 0 gear(s), at @()\u001b[0m\n",
      "\u001b[93mVERBOSE: Found 0 gear(s), at @()\u001b[0m\n",
      "\u001b[93mVERBOSE: Found 0 gear(s), at @()\u001b[0m\n",
      "\u001b[93mVERBOSE: Found 1 gear(s), at @(5)\u001b[0m\n",
      "\u001b[93mVERBOSE: Checking all around, found 2 ratios, at @(6, 5) with values @(755, 598)\u001b[0m\n",
      "\u001b[93mDEBUG: Valid gear! 755 × 598 = 451490; running total is 467835\u001b[0m\n",
      "\u001b[93mVERBOSE: Found 0 gear(s), at @()\u001b[0m\n",
      "Part 2 solution is 467835\n"
     ]
    }
   ],
   "source": [
    "$VerbosePreference = 'Continue'\n",
    "$DebugPreference = 'Continue'\n",
    "Write-Host \"Part 2 solution is $(dostuff2 $sample_data)\""
   ]
  },
  {
   "cell_type": "code",
   "execution_count": 124,
   "metadata": {
    "dotnet_interactive": {
     "language": "pwsh"
    },
    "polyglot_notebook": {
     "kernelName": "pwsh"
    }
   },
   "outputs": [
    {
     "name": "stdout",
     "output_type": "stream",
     "text": [
      "Part 2 solution is 80179647\r\n"
     ]
    }
   ],
   "source": [
    "$VerbosePreference = 'SilentlyContinue'\n",
    "$DebugPreference = 'SilentlyContinue'\n",
    "Write-Host \"Part 2 solution is $(dostuff2 $data)\""
   ]
  }
 ],
 "metadata": {
  "kernelspec": {
   "display_name": ".NET (PowerShell)",
   "language": "PowerShell",
   "name": ".net-pwsh"
  },
  "language_info": {
   "name": "polyglot-notebook"
  },
  "polyglot_notebook": {
   "kernelInfo": {
    "defaultKernelName": "pwsh",
    "items": [
     {
      "aliases": [],
      "languageName": "pwsh",
      "name": "pwsh"
     }
    ]
   }
  }
 },
 "nbformat": 4,
 "nbformat_minor": 2
}
