{
 "cells": [
  {
   "cell_type": "markdown",
   "metadata": {},
   "source": [
    "# Day 8: Haunted Wasteland\n",
    "\n",
    "You're still riding a camel across Desert Island when you spot a sandstorm quickly approaching. When you turn to warn the Elf, she disappears before your eyes! To be fair, she had just finished warning you about _ghosts_ a few minutes ago.\n",
    "\n",
    "One of the camel's pouches is labeled \"maps\" - sure enough, it's full of documents (your puzzle input) about how to navigate the desert. At least, you're pretty sure that's what they are; one of the documents contains a list of left/right instructions, and the rest of the documents seem to describe some kind of _network_ of labeled nodes.\n",
    "\n",
    "It seems like you're meant to use the _left/right_ instructions to _navigate the network_. Perhaps if you have the camel follow the same instructions, you can escape the haunted wasteland!\n",
    "\n",
    "After examining the maps for a bit, two nodes stick out: `AAA` and `ZZZ`. You feel like `AAA` is where you are now, and you have to follow the left/right instructions until you reach `ZZZ`.\n",
    "\n",
    "This format defines each _node_ of the network individually. For example:\n",
    "\n",
    "```\n",
    "RL\n",
    "\n",
    "AAA = (BBB, CCC)\n",
    "BBB = (DDD, EEE)\n",
    "CCC = (ZZZ, GGG)\n",
    "DDD = (DDD, DDD)\n",
    "EEE = (EEE, EEE)\n",
    "GGG = (GGG, GGG)\n",
    "ZZZ = (ZZZ, ZZZ)\n",
    "```\n",
    "\n",
    "Starting with `AAA`, you need to _look up the next element_ based on the next left/right instruction in your input. In this example, start with `AAA` and go _right_ (`R`) by choosing the right element of `AAA`, `_CCC_`. Then, `L` means to choose the _left_ element of `CCC`, `_ZZZ_`. By following the left/right instructions, you reach `ZZZ` in `_2_` steps.\n",
    "\n",
    "Of course, you might not find `ZZZ` right away. If you run out of left/right instructions, repeat the whole sequence of instructions as necessary: `RL` really means `RLRLRLRLRLRLRLRL...` and so on. For example, here is a situation that takes `_6_` steps to reach `ZZZ`:\n",
    "\n",
    "```\n",
    "LLR\n",
    "\n",
    "AAA = (BBB, BBB)\n",
    "BBB = (AAA, ZZZ)\n",
    "ZZZ = (ZZZ, ZZZ)\n",
    "```\n",
    "\n",
    "Starting at `AAA`, follow the left/right instructions. _How many steps are required to reach `ZZZ`?_"
   ]
  },
  {
   "cell_type": "code",
   "execution_count": 7,
   "metadata": {
    "dotnet_interactive": {
     "language": "pwsh"
    },
    "polyglot_notebook": {
     "kernelName": "pwsh"
    }
   },
   "outputs": [],
   "source": [
    "$sample_data = @'\n",
    "LLR\n",
    "\n",
    "AAA = (BBB, BBB)\n",
    "BBB = (AAA, ZZZ)\n",
    "ZZZ = (ZZZ, ZZZ)\n",
    "'@ -split \"`n\" #NB: Polyglot seems to be OK with this, but in plain PoSH, it caused me pain as it had CRLF (\"`r`n\") line endings. FYI.\n",
    "\n",
    "$input_data = Get-Content .\\data.txt"
   ]
  },
  {
   "cell_type": "code",
   "execution_count": 11,
   "metadata": {
    "dotnet_interactive": {
     "language": "pwsh"
    },
    "polyglot_notebook": {
     "kernelName": "pwsh"
    }
   },
   "outputs": [],
   "source": [
    "function dostuff {\n",
    "    [CmdletBinding()] Param(\n",
    "        [Parameter(Mandatory=$false)]\n",
    "        [switch] $sample,\n",
    "        [Parameter(Mandatory=$false)]\n",
    "        [switch] $part2\n",
    "    )\n",
    "\n",
    "    if($sample) {\n",
    "        if(!$part2) {\n",
    "            $data = $sample_data \n",
    "        } else {\n",
    "            $data = @'\n",
    "LR\n",
    "\n",
    "11A = (11B, XXX)\n",
    "11B = (XXX, 11Z)\n",
    "11Z = (11B, XXX)\n",
    "22A = (22B, XXX)\n",
    "22B = (22C, 22C)\n",
    "22C = (22Z, 22Z)\n",
    "22Z = (22B, 22B)\n",
    "XXX = (XXX, XXX)\n",
    "'@ -split \"`n\"\n",
    "        }\n",
    "    } else {\n",
    "        $data = $input_data\n",
    "    }\n",
    "\n",
    "    $directions = $data[0].trim()\n",
    "    $direction_step = 0\n",
    "    $pedometer = 0\n",
    "    if(!$part2) {\n",
    "        $positions = @('AAA')\n",
    "    } else {\n",
    "        $positions = [System.Collections.ArrayList]::new()\n",
    "    }\n",
    "    \n",
    "    # setup the location map (& for part2 find the start positions)\n",
    "    $map = @{}\n",
    "    for($x = 2; $x -lt $data.count; $x++) {\n",
    "        $temp = $data[$x].trim().split(' = (') # adding .trim() as some weird NPCs are sneaking in\n",
    "        $temp2 = $temp[1].split(', ')\n",
    "        $map.Add($temp[0], @{ 'L' = $temp2[0]; 'R' = $temp2[1].trim(')') })\n",
    "        Write-Verbose \"From data line $x, adding pos $($temp[0]) with L=$($temp2[0]) and R=$( $map[$temp[0]]['R'] )\"\n",
    "        if($part2 -and $temp[0][2] -eq 'A') {\n",
    "            $positions.add($temp[0]) | Out-Null\n",
    "        }\n",
    "    }\n",
    "\n",
    "    Write-Debug \"Parsed $($map.keys.count) nodes and $($directions.length) directions [$directions].\"\n",
    "    if($part2) { Write-Debug \"Also found $($positions.count) start positions ($($positions -join ', '))\" }\n",
    "\n",
    "    # follow the map!\n",
    "    $continue_looking = $true\n",
    "    while($continue_looking) {\n",
    "        $part2_end = $true #gets falsed as soon as at least one position != xxZ\n",
    "        for($x=0; $x -lt $positions.Count; $x++) {\n",
    "            #update our location to our new location\n",
    "            $newpos = $map[$positions[$x]][\"$($directions[$direction_step])\"]\n",
    "            Write-Debug \"Step $pedometer position #$x presently at $($positions[$x]) ($x of $($positions.Count-1)), will be heading $($directions[$direction_step]) to $newpos\"\n",
    "            $positions[$x] = $newpos\n",
    "            # Solution checking\n",
    "            if(!$part2) {\n",
    "                if($positions[0] -eq 'ZZZ') {\n",
    "                    $continue_looking = $false\n",
    "                }\n",
    "            } else {\n",
    "                if($part2_end -and $positions[$x][2] -ne 'Z') { # the \"$part2_end -and\" should allow PoSH to skip the string slice/comparison, and improve performance.\n",
    "                    $part2_end = $false\n",
    "                }\n",
    "            }\n",
    "        }\n",
    "        if($part2_end) {\n",
    "            $continue_looking = $false\n",
    "        }\n",
    "        $pedometer++\n",
    "        $direction_step++\n",
    "        if($direction_step -ge $directions.length) {\n",
    "            $direction_step = 0 #loop around per instructions\n",
    "        }\n",
    "        if(!$sample -and $pedometer -gt 10000 -or $sample -and $pedometer -gt 30) {\n",
    "            Write-Error \"Bailing out since we've looped too long...\"\n",
    "            break\n",
    "        }\n",
    "\n",
    "    }\n",
    "    return $pedometer\n",
    "}"
   ]
  },
  {
   "cell_type": "code",
   "execution_count": 12,
   "metadata": {
    "dotnet_interactive": {
     "language": "pwsh"
    },
    "polyglot_notebook": {
     "kernelName": "pwsh"
    }
   },
   "outputs": [
    {
     "name": "stdout",
     "output_type": "stream",
     "text": [
      "DEBUG: Parsed 3 nodes and 3 directions [LLR].\n",
      "\u001b[93mDEBUG: Step 0 position #0 presently at AAA (0 of 0), will be heading L to BBB\u001b[0m\n",
      "Took 1 steps to get to ZZZ.\n"
     ]
    }
   ],
   "source": [
    "Write-Output \"Took $(dostuff -sample -Debug) steps to get to ZZZ.\""
   ]
  },
  {
   "cell_type": "code",
   "execution_count": 13,
   "metadata": {
    "dotnet_interactive": {
     "language": "pwsh"
    },
    "polyglot_notebook": {
     "kernelName": "pwsh"
    }
   },
   "outputs": [
    {
     "name": "stdout",
     "output_type": "stream",
     "text": [
      "Took 1 steps to get to ZZZ.\r\n"
     ]
    }
   ],
   "source": [
    "Write-Output \"Took $(dostuff) steps to get to ZZZ.\""
   ]
  },
  {
   "cell_type": "markdown",
   "metadata": {},
   "source": [
    "# Part Two\n",
    "\n",
    "The sandstorm is upon you and you aren't any closer to escaping the wasteland. You had the camel follow the instructions, but you've barely left your starting position. It's going to take _significantly more steps_ to escape!\n",
    "\n",
    "What if the map isn't for people - what if the map is for _ghosts_? Are ghosts even bound by the laws of spacetime? Only one way to find out.\n",
    "\n",
    "After examining the maps a bit longer, your attention is drawn to a curious fact: the number of nodes with names ending in `A` is equal to the number ending in `Z`! If you were a ghost, you'd probably just _start at every node that ends with `A`_ and follow all of the paths at the same time until they all simultaneously end up at nodes that end with `Z`.\n",
    "\n",
    "For example:\n",
    "\n",
    "```\n",
    "LR\n",
    "\n",
    "11A = (11B, XXX)\n",
    "11B = (XXX, 11Z)\n",
    "11Z = (11B, XXX)\n",
    "22A = (22B, XXX)\n",
    "22B = (22C, 22C)\n",
    "22C = (22Z, 22Z)\n",
    "22Z = (22B, 22B)\n",
    "XXX = (XXX, XXX)\n",
    "```\n",
    "\n",
    "Here, there are two starting nodes, `11A` and `22A` (because they both end with `A`). As you follow each left/right instruction, use that instruction to _simultaneously_ navigate away from both nodes you're currently on. Repeat this process until _all_ of the nodes you're currently on end with `Z`. (If only some of the nodes you're on end with `Z`, they act like any other node and you continue as normal.) In this example, you would proceed as follows:\n",
    "\n",
    "- Step 0: You are at `11A` and `22A`.\n",
    "- Step 1: You choose all of the _left_ paths, leading you to `11B` and `22B`.\n",
    "- Step 2: You choose all of the _right_ paths, leading you to `_11Z_` and `22C`.\n",
    "- Step 3: You choose all of the _left_ paths, leading you to `11B` and `_22Z_`.\n",
    "- Step 4: You choose all of the _right_ paths, leading you to `_11Z_` and `22B`.\n",
    "- Step 5: You choose all of the _left_ paths, leading you to `11B` and `22C`.\n",
    "- Step 6: You choose all of the _right_ paths, leading you to `_11Z_` and `_22Z_`.\n",
    "\n",
    "So, in this example, you end up entirely on nodes that end in `Z` after `_6_` steps.\n",
    "\n",
    "Simultaneously start on every node that ends with `A`. _How many steps does it take before you're only on nodes that end with `Z`?_"
   ]
  },
  {
   "cell_type": "code",
   "execution_count": 14,
   "metadata": {
    "dotnet_interactive": {
     "language": "pwsh"
    },
    "polyglot_notebook": {
     "kernelName": "pwsh"
    }
   },
   "outputs": [
    {
     "name": "stdout",
     "output_type": "stream",
     "text": [
      "DEBUG: Parsed 8 nodes and 2 directions [LR].\n",
      "\u001b[93mDEBUG: Also found 2 start positions (11A, 22A)\u001b[0m\n",
      "\u001b[93mDEBUG: Step 0 position #0 presently at 11A (0 of 1), will be heading L to 11B\u001b[0m\n",
      "\u001b[93mDEBUG: Step 0 position #1 presently at 22A (1 of 1), will be heading L to 22B\u001b[0m\n",
      "\u001b[93mDEBUG: Step 1 position #0 presently at 11B (0 of 1), will be heading R to 11Z\u001b[0m\n",
      "\u001b[93mDEBUG: Step 1 position #1 presently at 22B (1 of 1), will be heading R to 22C\u001b[0m\n",
      "\u001b[93mDEBUG: Step 2 position #0 presently at 11Z (0 of 1), will be heading L to 11B\u001b[0m\n",
      "\u001b[93mDEBUG: Step 2 position #1 presently at 22C (1 of 1), will be heading L to 22Z\u001b[0m\n",
      "\u001b[93mDEBUG: Step 3 position #0 presently at 11B (0 of 1), will be heading R to 11Z\u001b[0m\n",
      "\u001b[93mDEBUG: Step 3 position #1 presently at 22Z (1 of 1), will be heading R to 22B\u001b[0m\n",
      "\u001b[93mDEBUG: Step 4 position #0 presently at 11Z (0 of 1), will be heading L to 11B\u001b[0m\n",
      "\u001b[93mDEBUG: Step 4 position #1 presently at 22B (1 of 1), will be heading L to 22C\u001b[0m\n",
      "\u001b[93mDEBUG: Step 5 position #0 presently at 11B (0 of 1), will be heading R to 11Z\u001b[0m\n",
      "\u001b[93mDEBUG: Step 5 position #1 presently at 22C (1 of 1), will be heading R to 22Z\u001b[0m\n",
      "Took 6 steps to get to xxZ.\n"
     ]
    }
   ],
   "source": [
    "Write-Output \"Took $(dostuff -part2 -sample -Debug) steps to get to xxZ.\""
   ]
  },
  {
   "cell_type": "code",
   "execution_count": 15,
   "metadata": {
    "dotnet_interactive": {
     "language": "pwsh"
    },
    "polyglot_notebook": {
     "kernelName": "pwsh"
    }
   },
   "outputs": [
    {
     "name": "stdout",
     "output_type": "stream",
     "text": [
      "\u001b[31;1mdostuff: \u001b[31;1mBailing out since we've looped too long...\u001b[0m\n",
      "Took 10001 steps to get to xxZ.\n"
     ]
    },
    {
     "ename": "Error",
     "evalue": "Command failed: SubmitCode: Write-Output \"Took $(dostuff -part2) steps to get  ...",
     "output_type": "error",
     "traceback": [
      "Command failed: SubmitCode: Write-Output \"Took $(dostuff -part2) steps to get  ..."
     ]
    }
   ],
   "source": [
    "Write-Output \"Took $(dostuff -part2) steps to get to xxZ.\""
   ]
  },
  {
   "cell_type": "markdown",
   "metadata": {},
   "source": [
    "Welp, this one kicked my but. Tried converting it to vanilla PoSH for more performance, turns out it was actually _slower_, haha. Anyway, might come back to this one."
   ]
  }
 ],
 "metadata": {
  "kernelspec": {
   "display_name": ".NET (C#)",
   "language": "C#",
   "name": ".net-csharp"
  },
  "language_info": {
   "name": "polyglot-notebook"
  },
  "polyglot_notebook": {
   "kernelInfo": {
    "defaultKernelName": "csharp",
    "items": [
     {
      "aliases": [],
      "name": "csharp"
     },
     {
      "aliases": [],
      "languageName": "pwsh",
      "name": "pwsh"
     }
    ]
   }
  }
 },
 "nbformat": 4,
 "nbformat_minor": 2
}
